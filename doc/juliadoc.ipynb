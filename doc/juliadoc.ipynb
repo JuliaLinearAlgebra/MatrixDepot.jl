{
 "metadata": {
  "language": "Julia",
  "name": "",
  "signature": "sha256:2a8609cba59d49d64b5f4257a4360704ea03fbd86fa3bc545b4e27f40a4af8fa"
 },
 "nbformat": 3,
 "nbformat_minor": 0,
 "worksheets": [
  {
   "cells": [
    {
     "cell_type": "markdown",
     "metadata": {},
     "source": [
      "# Matrix Depot for Julia\n",
      "\n",
      "Matrix Depot is a multi-language collection of test matrices. "
     ]
    },
    {
     "cell_type": "markdown",
     "metadata": {},
     "source": [
      "## Install"
     ]
    },
    {
     "cell_type": "markdown",
     "metadata": {},
     "source": [
      "To install the package, type"
     ]
    },
    {
     "cell_type": "code",
     "collapsed": false,
     "input": [
      "Pkg.update()\n",
      "Pkg.clone(\"MatrixDepot\")"
     ],
     "language": "python",
     "metadata": {},
     "outputs": []
    },
    {
     "cell_type": "markdown",
     "metadata": {},
     "source": [
      "## Usage\n",
      "\n",
      "First load the package:"
     ]
    },
    {
     "cell_type": "code",
     "collapsed": false,
     "input": [
      "using MatrixDepot"
     ],
     "language": "python",
     "metadata": {},
     "outputs": [],
     "prompt_number": 1
    },
    {
     "cell_type": "markdown",
     "metadata": {},
     "source": [
      "The only function will be exported is `matrixdepot`."
     ]
    },
    {
     "cell_type": "code",
     "collapsed": false,
     "input": [
      "? matrixdepot"
     ],
     "language": "python",
     "metadata": {},
     "outputs": [
      {
       "output_type": "stream",
       "stream": "stderr",
       "text": [
        "INFO: Loading help data...\n"
       ]
      },
      {
       "output_type": "stream",
       "stream": "stdout",
       "text": [
        "matrixdepot (generic function with 15 methods)\n"
       ]
      }
     ],
     "prompt_number": 2
    },
    {
     "cell_type": "markdown",
     "metadata": {},
     "source": [
      "Every matrix in the collection is represented by a string `matrix_name`, for example, the Cauchy matrix is represented by `\"cauchy\"` and the Hilbert matrix is represented by `\"hilb\"`. \n",
      "\n",
      "The properties of the matrices in the collection are also symbolized by strings `propertry_name`. For example, the class of the symmetric matrices is symbolized by `\"symmetric\"`."
     ]
    },
    {
     "cell_type": "markdown",
     "metadata": {},
     "source": [
      "* `matrixdepot(matrix_name, p1, p2, ...)` returns a matrix specified by the query `matrix_name`. `matrix_name` is a query string. `p1, p2, ...` are input parameters depending on `matrix_name`. \n",
      "\n",
      "* `matrixdepot(matrix_name)` returns the parameter options and the properties of `matrix_name`.\n",
      "\n",
      "* `matrixdepot(property_name)` returns a list of matrices with the property `property_name`."
     ]
    },
    {
     "cell_type": "markdown",
     "metadata": {},
     "source": [
      "## Examples"
     ]
    },
    {
     "cell_type": "markdown",
     "metadata": {},
     "source": [
      "To see all the matrices in the collection, type"
     ]
    },
    {
     "cell_type": "code",
     "collapsed": false,
     "input": [
      "matrixdepot()"
     ],
     "language": "python",
     "metadata": {},
     "outputs": [
      {
       "output_type": "stream",
       "stream": "stdout",
       "text": [
        "Matrices in the Collection:\n"
       ]
      },
      {
       "output_type": "stream",
       "stream": "stdout",
       "text": [
        "---------------------------\n",
        "\n",
        "Property: pos-def\n",
        "-------------------\n",
        "hilb matrix, cauchy matrix, circul matrix, invhilb matrix, \n",
        "moler matrix, pascal matrix, pei matrix, minij matrix, \n",
        "\n",
        "\n",
        "Property: ill-cond\n",
        "-------------------\n",
        "hilb matrix, cauchy matrix, frank matrix, invhilb matrix, \n",
        "forsythe matrix, triw matrix, moler matrix, pascal matrix, \n",
        "kahan matrix, pei matrix, vand matrix, invol matrix, \n",
        "lotkin matrix, \n",
        "\n",
        "Property: eigen\n",
        "-------------------\n",
        "hadamard matrix, circul matrix, dingdong matrix, frank matrix, \n",
        "forsythe matrix, grcar matrix, pascal matrix, invol matrix, \n",
        "chebspec matrix, lotkin matrix, clement matrix, fiedler matrix, \n",
        "minij matrix, \n",
        "\n",
        "Property: symmetric\n",
        "-------------------\n",
        "hilb matrix, cauchy matrix, circul matrix, dingdong matrix, \n",
        "invhilb matrix, moler matrix, pascal matrix, pei matrix, \n",
        "clement matrix, fiedler matrix, minij matrix, \n",
        "\n",
        "Property: inverse\n",
        "-------------------\n",
        "hilb matrix, hadamard matrix, cauchy matrix, invhilb matrix, \n",
        "forsythe matrix, magic matrix, triw matrix, moler matrix, \n",
        "pascal matrix, kahan matrix, pei matrix, vand matrix, \n",
        "invol matrix, lotkin matrix, clement matrix, fiedler matrix, \n",
        "minij matrix, \n",
        "\n"
       ]
      }
     ],
     "prompt_number": 3
    },
    {
     "cell_type": "markdown",
     "metadata": {},
     "source": [
      "We can generate a Hilbert matrix of size 4 by typing"
     ]
    },
    {
     "cell_type": "code",
     "collapsed": false,
     "input": [
      "matrixdepot(\"hilb\", 4)"
     ],
     "language": "python",
     "metadata": {},
     "outputs": [
      {
       "metadata": {},
       "output_type": "pyout",
       "prompt_number": 4,
       "text": [
        "4x4 Array{Float64,2}:\n",
        " 1.0       0.5       0.333333  0.25    \n",
        " 0.5       0.333333  0.25      0.2     \n",
        " 0.333333  0.25      0.2       0.166667\n",
        " 0.25      0.2       0.166667  0.142857"
       ]
      }
     ],
     "prompt_number": 4
    },
    {
     "cell_type": "markdown",
     "metadata": {},
     "source": [
      "and generate a circul matrix of size 5 by "
     ]
    },
    {
     "cell_type": "code",
     "collapsed": false,
     "input": [
      "matrixdepot(\"circul\", 5)"
     ],
     "language": "python",
     "metadata": {},
     "outputs": [
      {
       "metadata": {},
       "output_type": "pyout",
       "prompt_number": 5,
       "text": [
        "5x5 Array{Float64,2}:\n",
        " 1.0  2.0  3.0  4.0  5.0\n",
        " 5.0  1.0  2.0  3.0  4.0\n",
        " 4.0  5.0  1.0  2.0  3.0\n",
        " 3.0  4.0  5.0  1.0  2.0\n",
        " 2.0  3.0  4.0  5.0  1.0"
       ]
      }
     ],
     "prompt_number": 5
    },
    {
     "cell_type": "markdown",
     "metadata": {},
     "source": [
      "If we are not sure about the paramters or properties of a matrix, we can type the matrix name "
     ]
    },
    {
     "cell_type": "code",
     "collapsed": false,
     "input": [
      "matrixdepot(\"hilb\")"
     ],
     "language": "python",
     "metadata": {},
     "outputs": [
      {
       "output_type": "stream",
       "stream": "stdout",
       "text": [
        "Hilbert matrix: \n",
        "             \n",
        " Input options: \n",
        "             \n",
        " (type), dim: the dimension of the matrix\n",
        "             \n",
        " (type), row_dim, col_dim: the row and column dimension \n",
        "             \n",
        " ['inverse', 'ill-cond', 'symmetric', 'pos-def']\n"
       ]
      }
     ],
     "prompt_number": 6
    },
    {
     "cell_type": "code",
     "collapsed": false,
     "input": [
      "matrixdepot(\"hadamard\")"
     ],
     "language": "python",
     "metadata": {},
     "outputs": [
      {
       "output_type": "stream",
       "stream": "stdout",
       "text": [
        "Hadamard matrix: \n",
        "             \n",
        " Input options: \n",
        "             \n",
        " (type), dim: the dimension of the matrix, n is a power of 2 \n",
        "             \n",
        " ['inverse', 'orthogonal', 'eigen']\n"
       ]
      }
     ],
     "prompt_number": 7
    },
    {
     "cell_type": "markdown",
     "metadata": {},
     "source": [
      "From the information given by `matrixdepot(\"hilb\")`, we notice we create\n",
      "a 4-by-6 rectanglular Hilbert matrix by"
     ]
    },
    {
     "cell_type": "code",
     "collapsed": false,
     "input": [
      "matrixdepot(\"hilb\", 4, 6)"
     ],
     "language": "python",
     "metadata": {},
     "outputs": [
      {
       "metadata": {},
       "output_type": "pyout",
       "prompt_number": 8,
       "text": [
        "4x6 Array{Float64,2}:\n",
        " 1.0       0.5       0.333333  0.25      0.2       0.166667\n",
        " 0.5       0.333333  0.25      0.2       0.166667  0.142857\n",
        " 0.333333  0.25      0.2       0.166667  0.142857  0.125   \n",
        " 0.25      0.2       0.166667  0.142857  0.125     0.111111"
       ]
      }
     ],
     "prompt_number": 8
    },
    {
     "cell_type": "markdown",
     "metadata": {},
     "source": [
      "We can aslo specify the data type"
     ]
    },
    {
     "cell_type": "code",
     "collapsed": false,
     "input": [
      "matrixdepot(\"hilb\", Float16, 5, 3)"
     ],
     "language": "python",
     "metadata": {},
     "outputs": [
      {
       "metadata": {},
       "output_type": "pyout",
       "prompt_number": 9,
       "text": [
        "5x3 Array{Float16,2}:\n",
        " 1.0      0.5      0.33325\n",
        " 0.5      0.33325  0.25   \n",
        " 0.33325  0.25     0.19995\n",
        " 0.25     0.19995  0.16663\n",
        " 0.19995  0.16663  0.14282"
       ]
      }
     ],
     "prompt_number": 9
    },
    {
     "cell_type": "markdown",
     "metadata": {},
     "source": [
      "By typing a matrix name, we can see what properties that matrix have. Conversely, if we type a property, we can see all the matrices (in the collection) having that property. "
     ]
    },
    {
     "cell_type": "code",
     "collapsed": false,
     "input": [
      "matrixdepot(\"symmetric\")"
     ],
     "language": "python",
     "metadata": {},
     "outputs": [
      {
       "metadata": {},
       "output_type": "pyout",
       "prompt_number": 10,
       "text": [
        "11-element Array{ASCIIString,1}:\n",
        " \"hilb\"    \n",
        " \"cauchy\"  \n",
        " \"circul\"  \n",
        " \"dingdong\"\n",
        " \"invhilb\" \n",
        " \"moler\"   \n",
        " \"pascal\"  \n",
        " \"pei\"     \n",
        " \"clement\" \n",
        " \"fiedler\" \n",
        " \"minij\"   "
       ]
      }
     ],
     "prompt_number": 10
    },
    {
     "cell_type": "code",
     "collapsed": false,
     "input": [
      "matrixdepot(\"ill-cond\")"
     ],
     "language": "python",
     "metadata": {},
     "outputs": [
      {
       "metadata": {},
       "output_type": "pyout",
       "prompt_number": 11,
       "text": [
        "13-element Array{ASCIIString,1}:\n",
        " \"hilb\"    \n",
        " \"cauchy\"  \n",
        " \"frank\"   \n",
        " \"invhilb\" \n",
        " \"forsythe\"\n",
        " \"triw\"    \n",
        " \"moler\"   \n",
        " \"pascal\"  \n",
        " \"kahan\"   \n",
        " \"pei\"     \n",
        " \"vand\"    \n",
        " \"invol\"   \n",
        " \"lotkin\"  "
       ]
      }
     ],
     "prompt_number": 11
    },
    {
     "cell_type": "code",
     "collapsed": false,
     "input": [
      "matrixdepot(\"inverse\")"
     ],
     "language": "python",
     "metadata": {},
     "outputs": [
      {
       "metadata": {},
       "output_type": "pyout",
       "prompt_number": 12,
       "text": [
        "17-element Array{ASCIIString,1}:\n",
        " \"hilb\"    \n",
        " \"hadamard\"\n",
        " \"cauchy\"  \n",
        " \"invhilb\" \n",
        " \"forsythe\"\n",
        " \"magic\"   \n",
        " \"triw\"    \n",
        " \"moler\"   \n",
        " \"pascal\"  \n",
        " \"kahan\"   \n",
        " \"pei\"     \n",
        " \"vand\"    \n",
        " \"invol\"   \n",
        " \"lotkin\"  \n",
        " \"clement\" \n",
        " \"fiedler\" \n",
        " \"minij\"   "
       ]
      }
     ],
     "prompt_number": 12
    },
    {
     "cell_type": "markdown",
     "metadata": {},
     "source": [
      "Given a property, we can loop through all the matrices having this propery"
     ]
    },
    {
     "cell_type": "code",
     "collapsed": false,
     "input": [
      "# Multiply all matrices of the class \"symmetric\" and \"ill-cond\"\n",
      "A = eye(4)\n",
      "print(\"Identity matrix\")\n",
      "for mat in intersect(matrixdepot(\"symmetric\"), matrixdepot(\"ill-cond\")) \n",
      "    print(\" x $mat matrix\")\n",
      "    A = A * matrixdepot(mat, 4)    \n",
      "end\n",
      "println(\" =\")\n",
      "A    "
     ],
     "language": "python",
     "metadata": {},
     "outputs": [
      {
       "output_type": "stream",
       "stream": "stdout",
       "text": [
        "Identity matrix x hilb matrix"
       ]
      },
      {
       "output_type": "stream",
       "stream": "stdout",
       "text": [
        " x cauchy matrix x invhilb matrix x moler matrix x pascal matrix x pei matrix =\n"
       ]
      },
      {
       "metadata": {},
       "output_type": "pyout",
       "prompt_number": 15,
       "text": [
        "4x4 Array{Float64,2}:\n",
        " 168.558   183.996   211.354   254.145\n",
        " 120.813   131.73    151.566   183.0  \n",
        "  95.3167  103.881   119.602   144.652\n",
        "  78.9881   86.0622   99.1235  120.0  "
       ]
      }
     ],
     "prompt_number": 15
    },
    {
     "cell_type": "markdown",
     "metadata": {},
     "source": [
      "## More Examples"
     ]
    },
    {
     "cell_type": "markdown",
     "metadata": {},
     "source": [
      "An interesting test matrix is magic square. It can be generated as "
     ]
    },
    {
     "cell_type": "code",
     "collapsed": false,
     "input": [
      "M = matrixdepot(\"magic\", 5)"
     ],
     "language": "python",
     "metadata": {},
     "outputs": [
      {
       "metadata": {},
       "output_type": "pyout",
       "prompt_number": 16,
       "text": [
        "5x5 Array{Int64,2}:\n",
        " 17  24   1   8  15\n",
        " 23   5   7  14  16\n",
        "  4   6  13  20  22\n",
        " 10  12  19  21   3\n",
        " 11  18  25   2   9"
       ]
      }
     ],
     "prompt_number": 16
    },
    {
     "cell_type": "code",
     "collapsed": false,
     "input": [
      "sum(M,1)"
     ],
     "language": "python",
     "metadata": {},
     "outputs": [
      {
       "metadata": {},
       "output_type": "pyout",
       "prompt_number": 17,
       "text": [
        "1x5 Array{Int64,2}:\n",
        " 65  65  65  65  65"
       ]
      }
     ],
     "prompt_number": 17
    },
    {
     "cell_type": "code",
     "collapsed": false,
     "input": [
      "sum(M,2)"
     ],
     "language": "python",
     "metadata": {},
     "outputs": [
      {
       "metadata": {},
       "output_type": "pyout",
       "prompt_number": 18,
       "text": [
        "5x1 Array{Int64,2}:\n",
        " 65\n",
        " 65\n",
        " 65\n",
        " 65\n",
        " 65"
       ]
      }
     ],
     "prompt_number": 18
    },
    {
     "cell_type": "code",
     "collapsed": false,
     "input": [
      "sum(diag(M))"
     ],
     "language": "python",
     "metadata": {},
     "outputs": [
      {
       "metadata": {},
       "output_type": "pyout",
       "prompt_number": 19,
       "text": [
        "65"
       ]
      }
     ],
     "prompt_number": 19
    },
    {
     "cell_type": "code",
     "collapsed": false,
     "input": [
      "p = [5:-1:1]\n",
      "sum(diag(M[:,p]))"
     ],
     "language": "python",
     "metadata": {},
     "outputs": [
      {
       "metadata": {},
       "output_type": "pyout",
       "prompt_number": 20,
       "text": [
        "65"
       ]
      }
     ],
     "prompt_number": 20
    },
    {
     "cell_type": "markdown",
     "metadata": {},
     "source": [
      "Pascal Matrix can be generated as "
     ]
    },
    {
     "cell_type": "code",
     "collapsed": false,
     "input": [
      "P = matrixdepot(\"pascal\", 6)"
     ],
     "language": "python",
     "metadata": {},
     "outputs": [
      {
       "metadata": {},
       "output_type": "pyout",
       "prompt_number": 21,
       "text": [
        "6x6 Array{Int64,2}:\n",
        " 1  1   1   1    1    1\n",
        " 1  2   3   4    5    6\n",
        " 1  3   6  10   15   21\n",
        " 1  4  10  20   35   56\n",
        " 1  5  15  35   70  126\n",
        " 1  6  21  56  126  252"
       ]
      }
     ],
     "prompt_number": 21
    },
    {
     "cell_type": "markdown",
     "metadata": {},
     "source": [
      "Notice the Cholesky factor of the Pascal matrix has Pascal's triangle rows."
     ]
    },
    {
     "cell_type": "code",
     "collapsed": false,
     "input": [
      "chol(P)"
     ],
     "language": "python",
     "metadata": {},
     "outputs": [
      {
       "metadata": {},
       "output_type": "pyout",
       "prompt_number": 22,
       "text": [
        "6x6 Array{Float64,2}:\n",
        " 1.0  1.0  1.0  1.0  1.0   1.0\n",
        " 0.0  1.0  2.0  3.0  4.0   5.0\n",
        " 0.0  0.0  1.0  3.0  6.0  10.0\n",
        " 0.0  0.0  0.0  1.0  4.0  10.0\n",
        " 0.0  0.0  0.0  0.0  1.0   5.0\n",
        " 0.0  0.0  0.0  0.0  0.0   1.0"
       ]
      }
     ],
     "prompt_number": 22
    }
   ],
   "metadata": {}
  }
 ]
}