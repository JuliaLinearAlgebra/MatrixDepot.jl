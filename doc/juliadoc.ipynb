{
 "metadata": {
  "language": "Julia",
  "name": "",
  "signature": "sha256:b9a6b862c77545f99b33db1d245d6db192e34d9ee1648a588ec9358082bd82fa"
 },
 "nbformat": 3,
 "nbformat_minor": 0,
 "worksheets": [
  {
   "cells": [
    {
     "cell_type": "markdown",
     "metadata": {},
     "source": [
      "# Matrix Depot for Julia\n",
      "\n",
      "Matrix Depot is a multi-language collection of test matrices. "
     ]
    },
    {
     "cell_type": "markdown",
     "metadata": {},
     "source": [
      "## Usage\n",
      "\n",
      "First load the package:"
     ]
    },
    {
     "cell_type": "code",
     "collapsed": false,
     "input": [
      "using MatrixDepot"
     ],
     "language": "python",
     "metadata": {},
     "outputs": [],
     "prompt_number": 1
    },
    {
     "cell_type": "markdown",
     "metadata": {},
     "source": [
      "The only function will be exported is `matrixdepot`."
     ]
    },
    {
     "cell_type": "code",
     "collapsed": false,
     "input": [
      "? matrixdepot"
     ],
     "language": "python",
     "metadata": {},
     "outputs": [
      {
       "output_type": "stream",
       "stream": "stderr",
       "text": [
        "INFO: Loading help data...\n"
       ]
      },
      {
       "output_type": "stream",
       "stream": "stdout",
       "text": [
        "matrixdepot (generic function with 11 methods)\n"
       ]
      }
     ],
     "prompt_number": 2
    },
    {
     "cell_type": "markdown",
     "metadata": {},
     "source": [
      "Every matrix in the collection is represented by a string `matrix_name`, for example, the Cauchy matrix is represented by `\"cauchy\"` and the Hilbert matrix is represented by `\"hilb\"`. \n",
      "\n",
      "The properties of the matrices in the collection are also symbolized by strings `propertry_name`. For example, the class of the symmetric matrices is symbolized by `\"symmetric\"`."
     ]
    },
    {
     "cell_type": "markdown",
     "metadata": {},
     "source": [
      "* `matrixdepot(matrix_name, p1, p2, ...)` returns a matrix specified by the query `matrix_name`. `matrix_name` is a query string. `p1, p2, ...` are input parameters depending on `matrix_name`. \n",
      "\n",
      "* `matrixdepot(matrix_name)` returns the parameter options and the properties of `matrix_name`.\n",
      "\n",
      "* `matrixdepot(property_name)` returns a list of matrices with the property `property_name`."
     ]
    },
    {
     "cell_type": "markdown",
     "metadata": {},
     "source": [
      "## Examples"
     ]
    },
    {
     "cell_type": "markdown",
     "metadata": {},
     "source": [
      "To see all the matrices in the collection, type"
     ]
    },
    {
     "cell_type": "code",
     "collapsed": false,
     "input": [
      "matrixdepot()"
     ],
     "language": "python",
     "metadata": {},
     "outputs": [
      {
       "output_type": "stream",
       "stream": "stdout",
       "text": [
        "Matrices in the Collection:\n"
       ]
      },
      {
       "output_type": "stream",
       "stream": "stdout",
       "text": [
        "---------------------------\n",
        "\n",
        "Property: pos-def\n",
        "-------------------\n",
        "hilb matrix, cauchy matrix, circul matrix, invhilb matrix, \n",
        "\n",
        "\n",
        "Property: ill-cond\n",
        "-------------------\n",
        "hilb matrix, cauchy matrix, frank matrix, invhilb matrix, \n",
        "forsythe matrix, \n",
        "\n",
        "Property: eigen\n",
        "-------------------\n",
        "hadamard matrix, circul matrix, dingdong matrix, frank matrix, \n",
        "forsythe matrix, \n",
        "\n",
        "Property: symmetric\n",
        "-------------------\n",
        "hilb matrix, cauchy matrix, circul matrix, dingdong matrix, \n",
        "invhilb matrix, \n",
        "\n",
        "Property: inverse\n",
        "-------------------\n",
        "hilb matrix, hadamard matrix, cauchy matrix, invhilb matrix, \n",
        "forsythe matrix, magic matrix, \n",
        "\n"
       ]
      }
     ],
     "prompt_number": 3
    },
    {
     "cell_type": "markdown",
     "metadata": {},
     "source": [
      "We can generate a Hilbert matrix of size 4 by typing"
     ]
    },
    {
     "cell_type": "code",
     "collapsed": false,
     "input": [
      "matrixdepot(\"hilb\", 4)"
     ],
     "language": "python",
     "metadata": {},
     "outputs": [
      {
       "metadata": {},
       "output_type": "pyout",
       "prompt_number": 4,
       "text": [
        "4x4 Array{Float64,2}:\n",
        " 1.0       0.5       0.333333  0.25    \n",
        " 0.5       0.333333  0.25      0.2     \n",
        " 0.333333  0.25      0.2       0.166667\n",
        " 0.25      0.2       0.166667  0.142857"
       ]
      }
     ],
     "prompt_number": 4
    },
    {
     "cell_type": "markdown",
     "metadata": {},
     "source": [
      "and generate a circul matrix of size 5 by "
     ]
    },
    {
     "cell_type": "code",
     "collapsed": false,
     "input": [
      "matrixdepot(\"circul\", 5)"
     ],
     "language": "python",
     "metadata": {},
     "outputs": [
      {
       "metadata": {},
       "output_type": "pyout",
       "prompt_number": 5,
       "text": [
        "5x5 Array{Float64,2}:\n",
        " 1.0  2.0  3.0  4.0  5.0\n",
        " 5.0  1.0  2.0  3.0  4.0\n",
        " 4.0  5.0  1.0  2.0  3.0\n",
        " 3.0  4.0  5.0  1.0  2.0\n",
        " 2.0  3.0  4.0  5.0  1.0"
       ]
      }
     ],
     "prompt_number": 5
    },
    {
     "cell_type": "markdown",
     "metadata": {},
     "source": [
      "If we are not sure about the paramters or properties of a matrix, we can type the matrix name "
     ]
    },
    {
     "cell_type": "code",
     "collapsed": false,
     "input": [
      "matrixdepot(\"hilb\")"
     ],
     "language": "python",
     "metadata": {},
     "outputs": [
      {
       "output_type": "stream",
       "stream": "stdout",
       "text": [
        "Hilbert matrix: \n",
        "              \n",
        " Input options: \n",
        "              \n",
        " (type), dim: the dimension of the matrix\n",
        "              \n",
        " (type), row_dim, col_dim: the row and column dimension \n",
        "              \n",
        " ['inverse', 'ill-cond', 'symmetric', 'pos-def']\n"
       ]
      }
     ],
     "prompt_number": 6
    },
    {
     "cell_type": "code",
     "collapsed": false,
     "input": [
      "matrixdepot(\"hadamard\")"
     ],
     "language": "python",
     "metadata": {},
     "outputs": [
      {
       "output_type": "stream",
       "stream": "stdout",
       "text": [
        "Hadamard matrix: \n",
        "              \n",
        " Input options: \n",
        "              \n",
        " (type), dim: the dimension of the matrix, n is a power of 2 \n",
        "              \n",
        " ['inverse', 'orthogonal', 'eigen']\n"
       ]
      }
     ],
     "prompt_number": 7
    },
    {
     "cell_type": "markdown",
     "metadata": {},
     "source": [
      "From the information given by `matrixdepot(\"hilb\")`, we notice we create\n",
      "a 4-by-6 rectanglular Hilbert matrix by"
     ]
    },
    {
     "cell_type": "code",
     "collapsed": false,
     "input": [
      "matrixdepot(\"hilb\", 4, 6)"
     ],
     "language": "python",
     "metadata": {},
     "outputs": [
      {
       "metadata": {},
       "output_type": "pyout",
       "prompt_number": 8,
       "text": [
        "4x6 Array{Float64,2}:\n",
        " 1.0       0.5       0.333333  0.25      0.2       0.166667\n",
        " 0.5       0.333333  0.25      0.2       0.166667  0.142857\n",
        " 0.333333  0.25      0.2       0.166667  0.142857  0.125   \n",
        " 0.25      0.2       0.166667  0.142857  0.125     0.111111"
       ]
      }
     ],
     "prompt_number": 8
    },
    {
     "cell_type": "markdown",
     "metadata": {},
     "source": [
      "We can aslo specify the data type"
     ]
    },
    {
     "cell_type": "code",
     "collapsed": false,
     "input": [
      "matrixdepot(\"hilb\", Float16, 5, 3)"
     ],
     "language": "python",
     "metadata": {},
     "outputs": [
      {
       "metadata": {},
       "output_type": "pyout",
       "prompt_number": 9,
       "text": [
        "5x3 Array{Float16,2}:\n",
        " 1.0      0.5      0.33325\n",
        " 0.5      0.33325  0.25   \n",
        " 0.33325  0.25     0.19995\n",
        " 0.25     0.19995  0.16663\n",
        " 0.19995  0.16663  0.14282"
       ]
      }
     ],
     "prompt_number": 9
    },
    {
     "cell_type": "markdown",
     "metadata": {},
     "source": [
      "By typing a matrix name, we can see what properties that matrix have. Conversely, if we type a property, we can see all the matrices (in the collection) having that property. "
     ]
    },
    {
     "cell_type": "code",
     "collapsed": false,
     "input": [
      "matrixdepot(\"symmetric\")"
     ],
     "language": "python",
     "metadata": {},
     "outputs": [
      {
       "metadata": {},
       "output_type": "pyout",
       "prompt_number": 10,
       "text": [
        "5-element Array{ASCIIString,1}:\n",
        " \"hilb\"    \n",
        " \"cauchy\"  \n",
        " \"circul\"  \n",
        " \"dingdong\"\n",
        " \"invhilb\" "
       ]
      }
     ],
     "prompt_number": 10
    },
    {
     "cell_type": "code",
     "collapsed": false,
     "input": [
      "matrixdepot(\"ill-cond\")"
     ],
     "language": "python",
     "metadata": {},
     "outputs": [
      {
       "metadata": {},
       "output_type": "pyout",
       "prompt_number": 11,
       "text": [
        "5-element Array{ASCIIString,1}:\n",
        " \"hilb\"    \n",
        " \"cauchy\"  \n",
        " \"frank\"   \n",
        " \"invhilb\" \n",
        " \"forsythe\""
       ]
      }
     ],
     "prompt_number": 11
    },
    {
     "cell_type": "code",
     "collapsed": false,
     "input": [
      "matrixdepot(\"inverse\")"
     ],
     "language": "python",
     "metadata": {},
     "outputs": [
      {
       "metadata": {},
       "output_type": "pyout",
       "prompt_number": 12,
       "text": [
        "6-element Array{ASCIIString,1}:\n",
        " \"hilb\"    \n",
        " \"hadamard\"\n",
        " \"cauchy\"  \n",
        " \"invhilb\" \n",
        " \"forsythe\"\n",
        " \"magic\"   "
       ]
      }
     ],
     "prompt_number": 12
    },
    {
     "cell_type": "markdown",
     "metadata": {},
     "source": [
      "Given a property, we can loop through all the matrices having this propery"
     ]
    },
    {
     "cell_type": "code",
     "collapsed": false,
     "input": [
      "# Multiply all matrices of the class \"inverse\"\n",
      "A = eye(4)\n",
      "print(\"Identity matrix\")\n",
      "for mat in matrixdepot(\"inverse\")\n",
      "    print(\" x $mat matrix\")\n",
      "    A = A * matrixdepot(mat, 4)    \n",
      "end\n",
      "println(\" =\")\n",
      "A    "
     ],
     "language": "python",
     "metadata": {},
     "outputs": [
      {
       "output_type": "stream",
       "stream": "stdout",
       "text": [
        "Identity matrix x hilb matrix"
       ]
      },
      {
       "output_type": "stream",
       "stream": "stdout",
       "text": [
        " x hadamard matrix"
       ]
      },
      {
       "output_type": "stream",
       "stream": "stdout",
       "text": [
        " x cauchy matrix"
       ]
      },
      {
       "output_type": "stream",
       "stream": "stdout",
       "text": [
        " x invhilb matrix x forsythe matrix x magic matrix ="
       ]
      },
      {
       "output_type": "stream",
       "stream": "stdout",
       "text": [
        "\n"
       ]
      },
      {
       "metadata": {},
       "output_type": "pyout",
       "prompt_number": 13,
       "text": [
        "4x4 Array{Float64,2}:\n",
        " 7.21429  22.3393   13.744    33.0   \n",
        " 4.81333  13.6817    8.68833  19.7933\n",
        " 3.57238  10.054     6.40929  14.5067\n",
        " 2.82204   7.98704   5.08105  11.54  "
       ]
      }
     ],
     "prompt_number": 13
    },
    {
     "cell_type": "markdown",
     "metadata": {},
     "source": [
      "An interesting test matrix is magic square. It can be generated as "
     ]
    },
    {
     "cell_type": "code",
     "collapsed": false,
     "input": [
      "M = matrixdepot(\"magic\", 5)"
     ],
     "language": "python",
     "metadata": {},
     "outputs": [
      {
       "metadata": {},
       "output_type": "pyout",
       "prompt_number": 4,
       "text": [
        "5x5 Array{Int64,2}:\n",
        " 17  24   1   8  15\n",
        " 23   5   7  14  16\n",
        "  4   6  13  20  22\n",
        " 10  12  19  21   3\n",
        " 11  18  25   2   9"
       ]
      }
     ],
     "prompt_number": 4
    },
    {
     "cell_type": "code",
     "collapsed": false,
     "input": [
      "sum(M,1)"
     ],
     "language": "python",
     "metadata": {},
     "outputs": [
      {
       "metadata": {},
       "output_type": "pyout",
       "prompt_number": 5,
       "text": [
        "1x5 Array{Int64,2}:\n",
        " 65  65  65  65  65"
       ]
      }
     ],
     "prompt_number": 5
    },
    {
     "cell_type": "code",
     "collapsed": false,
     "input": [
      "sum(M,2)"
     ],
     "language": "python",
     "metadata": {},
     "outputs": [
      {
       "metadata": {},
       "output_type": "pyout",
       "prompt_number": 6,
       "text": [
        "5x1 Array{Int64,2}:\n",
        " 65\n",
        " 65\n",
        " 65\n",
        " 65\n",
        " 65"
       ]
      }
     ],
     "prompt_number": 6
    }
   ],
   "metadata": {}
  }
 ]
}