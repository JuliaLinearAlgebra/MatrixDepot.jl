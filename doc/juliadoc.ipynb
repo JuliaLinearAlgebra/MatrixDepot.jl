{
 "metadata": {
  "language": "Julia",
  "name": ""
 },
 "nbformat": 3,
 "nbformat_minor": 0,
 "worksheets": [
  {
   "cells": [
    {
     "cell_type": "markdown",
     "metadata": {},
     "source": [
      "# Matrix Depot \n",
      "\n",
      "A test matrix collection for Julia. \n",
      "\n",
      "1. Install\n",
      "2. Usage\n",
      "3. Examples\n",
      "4. User Defined Properties\n",
      "5. More Examples"
     ]
    },
    {
     "cell_type": "markdown",
     "metadata": {},
     "source": [
      "## 1. Install"
     ]
    },
    {
     "cell_type": "markdown",
     "metadata": {},
     "source": [
      "To install the package, type"
     ]
    },
    {
     "cell_type": "code",
     "collapsed": false,
     "input": [
      "Pkg.add(\"MatrixDepot\")"
     ],
     "language": "python",
     "metadata": {},
     "outputs": []
    },
    {
     "cell_type": "markdown",
     "metadata": {},
     "source": [
      "## 2. Usage\n",
      "\n",
      "First load the package:"
     ]
    },
    {
     "cell_type": "code",
     "collapsed": false,
     "input": [
      "using MatrixDepot"
     ],
     "language": "python",
     "metadata": {},
     "outputs": [],
     "prompt_number": null
    },
    {
     "cell_type": "markdown",
     "metadata": {},
     "source": [
      "The only function will be exported is `matrixdepot`."
     ]
    },
    {
     "cell_type": "code",
     "collapsed": false,
     "input": [
      "? matrixdepot"
     ],
     "language": "python",
     "metadata": {},
     "outputs": [],
     "prompt_number": null
    },
    {
     "cell_type": "markdown",
     "metadata": {},
     "source": [
      "Every matrix in the collection is represented by a string `matrix_name`, for example, the Cauchy matrix is represented by `\"cauchy\"` and the Hilbert matrix is represented by `\"hilb\"`. \n",
      "\n",
      "The properties of the matrices in the collection are also symbolized by strings `property_name`. For example, the class of the symmetric matrices is symbolized by `\"symmetric\"`."
     ]
    },
    {
     "cell_type": "markdown",
     "metadata": {},
     "source": [
      "* `matrixdepot()` returns a list of all the matrices in the collection.\n",
      "\n",
      "* `matrixdepot(matrix_name, p1, p2, ...)` returns a matrix specified by the query string `matrix_name`. `p1, p2, ...` are input parameters depending on `matrix_name`. \n",
      "\n",
      "* `matrixdepot(matrix_name)` returns the parameter options and the properties of `matrix_name`.\n",
      "\n",
      "* `matrixdepot(property_name)` returns a list of matrices with the property `property_name`.\n",
      "\n",
      "* `matrixdepot(prop1, prop2, prop3,...)` returns a list of matrices with properties `prop1`, `prop2`, `prop3` etc."
     ]
    },
    {
     "cell_type": "markdown",
     "metadata": {},
     "source": [
      "We can define our own properties using the macro `@addproperty`\n",
      "\n",
      "- `@addproperty property_name = [\"matrix1\", \"matrix2\", \"matrix3\"]`\n",
      "\n",
      "and remove a defined property using the macro `@rmproperty`\n",
      "\n",
      "- `@rmproperty property_name`\n",
      "\n",
      "See below for examples."
     ]
    },
    {
     "cell_type": "markdown",
     "metadata": {},
     "source": [
      "## 3. Examples"
     ]
    },
    {
     "cell_type": "markdown",
     "metadata": {},
     "source": [
      "To see all the matrices in the collection, type"
     ]
    },
    {
     "cell_type": "code",
     "collapsed": false,
     "input": [
      "matrixdepot()"
     ],
     "language": "python",
     "metadata": {},
     "outputs": [],
     "prompt_number": null
    },
    {
     "cell_type": "markdown",
     "metadata": {},
     "source": [
      "The meanings of the column heading is as follows:\n",
      "\n",
      "* `\"symmetric\"`: the matrix is symmetric for some parameter values.\n",
      "\n",
      "* `\"inverse\"`: the inverse of the matrix is known explicitly.\n",
      "\n",
      "* `\"ill-cond\"`: the matrix is ill-conditioned for some parameter values.\n",
      "\n",
      "* `\"pos-def\"`: the matrix is symmetric positive definite for some parameter values.\n",
      "\n",
      "* `\"eigen\"`: the eigensystem of the matrix has some known results (explicit formulas for eigenvalues, eigenvectors, bounds of eigenvalues, etc)."
     ]
    },
    {
     "cell_type": "markdown",
     "metadata": {},
     "source": [
      "We can generate a Hilbert matrix of size 4 by typing"
     ]
    },
    {
     "cell_type": "code",
     "collapsed": false,
     "input": [
      "matrixdepot(\"hilb\", 4)"
     ],
     "language": "python",
     "metadata": {},
     "outputs": [],
     "prompt_number": null
    },
    {
     "cell_type": "markdown",
     "metadata": {},
     "source": [
      "and generate a circul matrix of size 5 by "
     ]
    },
    {
     "cell_type": "code",
     "collapsed": false,
     "input": [
      "matrixdepot(\"circul\", 5)"
     ],
     "language": "python",
     "metadata": {},
     "outputs": [],
     "prompt_number": null
    },
    {
     "cell_type": "markdown",
     "metadata": {},
     "source": [
      "We can type the matrix name to see the parameter options or matrix properties. "
     ]
    },
    {
     "cell_type": "code",
     "collapsed": false,
     "input": [
      "matrixdepot(\"hilb\")"
     ],
     "language": "python",
     "metadata": {},
     "outputs": [],
     "prompt_number": null
    },
    {
     "cell_type": "code",
     "collapsed": false,
     "input": [
      "matrixdepot(\"hadamard\")"
     ],
     "language": "python",
     "metadata": {},
     "outputs": [],
     "prompt_number": null
    },
    {
     "cell_type": "markdown",
     "metadata": {},
     "source": [
      "From the information given, we notice that we can create\n",
      "a 4-by-6 rectangular Hilbert matrix by"
     ]
    },
    {
     "cell_type": "code",
     "collapsed": false,
     "input": [
      "matrixdepot(\"hilb\", 4, 6)"
     ],
     "language": "python",
     "metadata": {},
     "outputs": [],
     "prompt_number": null
    },
    {
     "cell_type": "markdown",
     "metadata": {},
     "source": [
      "We can also specify the data type"
     ]
    },
    {
     "cell_type": "code",
     "collapsed": false,
     "input": [
      "matrixdepot(\"hilb\", Float16, 5, 3)"
     ],
     "language": "python",
     "metadata": {},
     "outputs": [],
     "prompt_number": null
    },
    {
     "cell_type": "markdown",
     "metadata": {},
     "source": [
      "By inputting a matrix name, we can see what properties that matrix have. Conversely, if we input a property (or properties),\n",
      "we can see all the matrices (in the collection) having that property (or properties). "
     ]
    },
    {
     "cell_type": "code",
     "collapsed": false,
     "input": [
      "matrixdepot(\"symmetric\")"
     ],
     "language": "python",
     "metadata": {},
     "outputs": [],
     "prompt_number": null
    },
    {
     "cell_type": "code",
     "collapsed": false,
     "input": [
      "matrixdepot(\"symmetric\", \"ill-cond\")"
     ],
     "language": "python",
     "metadata": {},
     "outputs": [],
     "prompt_number": null
    },
    {
     "cell_type": "code",
     "collapsed": false,
     "input": [
      "matrixdepot(\"inverse\", \"ill-cond\", \"symmetric\")"
     ],
     "language": "python",
     "metadata": {},
     "outputs": [],
     "prompt_number": null
    },
    {
     "cell_type": "markdown",
     "metadata": {},
     "source": [
      "Given a property, we can loop through all the matrices having this property"
     ]
    },
    {
     "cell_type": "code",
     "collapsed": false,
     "input": [
      "# Multiply all matrices of the class \"symmetric\" and \"ill-cond\" and \"inverse\"\n",
      "A = eye(4)\n",
      "print(\"Identity matrix\")\n",
      "for mat in intersect(matrixdepot(\"symmetric\"), matrixdepot(\"ill-cond\"), matrixdepot(\"inverse\")) \n",
      "    print(\" x $mat matrix\")\n",
      "    A = A * full(matrixdepot(mat, 4))    \n",
      "end\n",
      "println(\" =\")\n",
      "A    "
     ],
     "language": "python",
     "metadata": {},
     "outputs": [],
     "prompt_number": null
    },
    {
     "cell_type": "markdown",
     "metadata": {},
     "source": [
      "The loop above can also be written as "
     ]
    },
    {
     "cell_type": "code",
     "collapsed": false,
     "input": [
      "A = eye(4)\n",
      "print(\"Identity matrix\")\n",
      "for mat in matrixdepot(\"symmetric\", \"ill-cond\", \"inverse\")\n",
      "    print(\" x $mat matrix\")\n",
      "    A = A * full(matrixdepot(mat, 4))\n",
      "end\n",
      "println(\" =\")\n",
      "A"
     ],
     "language": "python",
     "metadata": {},
     "outputs": [],
     "prompt_number": null
    },
    {
     "cell_type": "markdown",
     "metadata": {},
     "source": [
      "## 4. User Defined Properties"
     ]
    },
    {
     "cell_type": "markdown",
     "metadata": {},
     "source": [
      "We can define properties in MatrixDepot. Since each property in Matrix Depot is a list of strings, you can simply do, for example,"
     ]
    },
    {
     "cell_type": "code",
     "collapsed": false,
     "input": [
      "spd = matrixdepot(\"symmetric\", \"pos-def\")"
     ],
     "language": "python",
     "metadata": {},
     "outputs": [],
     "prompt_number": null
    },
    {
     "cell_type": "code",
     "collapsed": false,
     "input": [
      "myprop = [\"lehmer\", \"cauchy\", \"hilb\"]"
     ],
     "language": "python",
     "metadata": {},
     "outputs": [],
     "prompt_number": null
    },
    {
     "cell_type": "markdown",
     "metadata": {},
     "source": [
      "Then use it in your tests like"
     ]
    },
    {
     "cell_type": "code",
     "collapsed": false,
     "input": [
      "for matrix in myprop\n",
      "    A = matrixdepot(matrix, 6)\n",
      "    L, U, p = lu(A) #LU factorization\n",
      "    err = norm(A[p,:] - L*U, 1) # 1-norm error\n",
      "    println(\"1-norm error for $matrix matrix is \", err)\n",
      "end    "
     ],
     "language": "python",
     "metadata": {},
     "outputs": [],
     "prompt_number": null
    },
    {
     "cell_type": "markdown",
     "metadata": {},
     "source": [
      "To add a property permanently for future use, we put the macro `@addproperty` at the beginning."
     ]
    },
    {
     "cell_type": "code",
     "collapsed": false,
     "input": [
      "@addproperty myfav = [\"lehmer\", \"cauchy\", \"hilb\"]"
     ],
     "language": "python",
     "metadata": {},
     "outputs": [],
     "prompt_number": null
    },
    {
     "cell_type": "code",
     "collapsed": false,
     "input": [
      "@addproperty spd = matrixdepot(\"symmetric\", \"pos-def\")"
     ],
     "language": "python",
     "metadata": {},
     "outputs": [],
     "prompt_number": null
    },
    {
     "cell_type": "markdown",
     "metadata": {},
     "source": [
      "We need to **restart** Julia to see the changes. Type "
     ]
    },
    {
     "cell_type": "code",
     "collapsed": false,
     "input": [
      "matrixdepot()"
     ],
     "language": "python",
     "metadata": {},
     "outputs": [],
     "prompt_number": null
    },
    {
     "cell_type": "markdown",
     "metadata": {},
     "source": [
      "Notice new defined properties have been included. We can use them as "
     ]
    },
    {
     "cell_type": "code",
     "collapsed": false,
     "input": [
      "matrixdepot(\"myfav\")"
     ],
     "language": "python",
     "metadata": {},
     "outputs": [],
     "prompt_number": null
    },
    {
     "cell_type": "markdown",
     "metadata": {},
     "source": [
      "We can remove a property using the macro `@rmproperty`. As before, we need to **restart** Julia to see the changes."
     ]
    },
    {
     "cell_type": "code",
     "collapsed": false,
     "input": [
      "@rmproperty myfav"
     ],
     "language": "python",
     "metadata": {},
     "outputs": [],
     "prompt_number": null
    },
    {
     "cell_type": "code",
     "collapsed": false,
     "input": [
      "matrixdepot()"
     ],
     "language": "python",
     "metadata": {},
     "outputs": [],
     "prompt_number": null
    },
    {
     "cell_type": "markdown",
     "metadata": {},
     "source": [
      "## 5. More Examples"
     ]
    },
    {
     "cell_type": "markdown",
     "metadata": {},
     "source": [
      "An interesting test matrix is magic square. It can be generated as "
     ]
    },
    {
     "cell_type": "code",
     "collapsed": false,
     "input": [
      "M = matrixdepot(\"magic\", 5)"
     ],
     "language": "python",
     "metadata": {},
     "outputs": [],
     "prompt_number": null
    },
    {
     "cell_type": "code",
     "collapsed": false,
     "input": [
      "sum(M,1)"
     ],
     "language": "python",
     "metadata": {},
     "outputs": [],
     "prompt_number": null
    },
    {
     "cell_type": "code",
     "collapsed": false,
     "input": [
      "sum(M,2)"
     ],
     "language": "python",
     "metadata": {},
     "outputs": [],
     "prompt_number": null
    },
    {
     "cell_type": "code",
     "collapsed": false,
     "input": [
      "sum(diag(M))"
     ],
     "language": "python",
     "metadata": {},
     "outputs": [],
     "prompt_number": null
    },
    {
     "cell_type": "code",
     "collapsed": false,
     "input": [
      "p = [5:-1:1]\n",
      "sum(diag(M[:,p]))"
     ],
     "language": "python",
     "metadata": {},
     "outputs": [],
     "prompt_number": null
    },
    {
     "cell_type": "markdown",
     "metadata": {},
     "source": [
      "Pascal Matrix can be generated as "
     ]
    },
    {
     "cell_type": "code",
     "collapsed": false,
     "input": [
      "P = matrixdepot(\"pascal\", 6)"
     ],
     "language": "python",
     "metadata": {},
     "outputs": [],
     "prompt_number": null
    },
    {
     "cell_type": "markdown",
     "metadata": {},
     "source": [
      "Notice the Cholesky factor of the Pascal matrix has Pascal's triangle rows."
     ]
    },
    {
     "cell_type": "code",
     "collapsed": false,
     "input": [
      "chol(P)"
     ],
     "language": "python",
     "metadata": {},
     "outputs": [],
     "prompt_number": null
    }
   ],
   "metadata": {}
  }
 ]
}
