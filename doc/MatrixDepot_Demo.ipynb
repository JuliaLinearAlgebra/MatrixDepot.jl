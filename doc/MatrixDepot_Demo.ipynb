{
 "cells": [
  {
   "cell_type": "markdown",
   "metadata": {},
   "source": [
    "# Demo"
   ]
  },
  {
   "cell_type": "code",
   "execution_count": 218,
   "metadata": {
    "collapsed": false
   },
   "outputs": [],
   "source": [
    "using MatrixDepot"
   ]
  },
  {
   "cell_type": "markdown",
   "metadata": {},
   "source": [
    "## Basic\n",
    "\n",
    "display all the matrices in the collection"
   ]
  },
  {
   "cell_type": "code",
   "execution_count": 299,
   "metadata": {
    "collapsed": false
   },
   "outputs": [
    {
     "data": {
      "text/latex": [
       "\\subsubsection{Currently loaded Matrices}\n",
       "\\begin{tabular}\n",
       "{l | l | l | l | l}\n",
       "builtin(\\#) &  &  &  &  \\\\\n",
       "\\hline\n",
       "1 baart & 13 fiedler & 25 invhilb & 37 parter & 49 shaw \\\\\n",
       "2 binomial & 14 forsythe & 26 invol & 38 pascal & 50 smallworld \\\\\n",
       "3 blur & 15 foxgood & 27 kahan & 39 pei & 51 spikes \\\\\n",
       "4 cauchy & 16 frank & 28 kms & 40 phillips & 52 toeplitz \\\\\n",
       "5 chebspec & 17 gilbert & 29 lehmer & 41 poisson & 53 tridiag \\\\\n",
       "6 chow & 18 golub & 30 lotkin & 42 prolate & 54 triw \\\\\n",
       "7 circul & 19 gravity & 31 magic & 43 randcorr & 55 ursell \\\\\n",
       "8 clement & 20 grcar & 32 minij & 44 rando & 56 vand \\\\\n",
       "9 companion & 21 hadamard & 33 moler & 45 randsvd & 57 wathen \\\\\n",
       "10 deriv2 & 22 hankel & 34 neumann & 46 rohess & 58 wilkinson \\\\\n",
       "11 dingdong & 23 heat & 35 oscillate & 47 rosser & 59 wing \\\\\n",
       "12 erdrey & 24 hilb & 36 parallax & 48 sampling &  \\\\\n",
       "\\end{tabular}\n",
       "\\begin{tabular}\n",
       "{l}\n",
       "user(\\#) \\\\\n",
       "\\hline\n",
       "\\end{tabular}\n",
       "\\begin{tabular}\n",
       "{l | l | l | l | l | l | l | l | l | l | l | l | l}\n",
       "Groups &  &  &  &  &  &  &  &  &  &  &  &  \\\\\n",
       "\\hline\n",
       "all & local & eigen & illcond & posdef & regprob & symmetric &  &  &  &  &  &  \\\\\n",
       "builtin & user & graph & inverse & random & sparse & paper1\\_test &  &  &  &  &  &  \\\\\n",
       "\\end{tabular}\n",
       "\\begin{tabular}\n",
       "{l | l}\n",
       "Suite Sparse & of \\\\\n",
       "\\hline\n",
       "2777 & 2893 \\\\\n",
       "\\end{tabular}\n",
       "\\begin{tabular}\n",
       "{l | l}\n",
       "MatrixMarket & of \\\\\n",
       "\\hline\n",
       "488 & 498 \\\\\n",
       "\\end{tabular}\n"
      ],
      "text/markdown": [
       "### Currently loaded Matrices\n",
       "\n",
       "| builtin(#)  |             |              |             |               |\n",
       "|:----------- |:----------- |:------------ |:----------- |:------------- |\n",
       "| 1 baart     | 13 fiedler  | 25 invhilb   | 37 parter   | 49 shaw       |\n",
       "| 2 binomial  | 14 forsythe | 26 invol     | 38 pascal   | 50 smallworld |\n",
       "| 3 blur      | 15 foxgood  | 27 kahan     | 39 pei      | 51 spikes     |\n",
       "| 4 cauchy    | 16 frank    | 28 kms       | 40 phillips | 52 toeplitz   |\n",
       "| 5 chebspec  | 17 gilbert  | 29 lehmer    | 41 poisson  | 53 tridiag    |\n",
       "| 6 chow      | 18 golub    | 30 lotkin    | 42 prolate  | 54 triw       |\n",
       "| 7 circul    | 19 gravity  | 31 magic     | 43 randcorr | 55 ursell     |\n",
       "| 8 clement   | 20 grcar    | 32 minij     | 44 rando    | 56 vand       |\n",
       "| 9 companion | 21 hadamard | 33 moler     | 45 randsvd  | 57 wathen     |\n",
       "| 10 deriv2   | 22 hankel   | 34 neumann   | 46 rohess   | 58 wilkinson  |\n",
       "| 11 dingdong | 23 heat     | 35 oscillate | 47 rosser   | 59 wing       |\n",
       "| 12 erdrey   | 24 hilb     | 36 parallax  | 48 sampling |               |\n",
       "\n",
       "| user(#) |\n",
       "|:------- |\n",
       "\n",
       "| Groups  |       |       |         |        |         |             |     |     |     |     |     |     |\n",
       "|:------- |:----- |:----- |:------- |:------ |:------- |:----------- |:--- |:--- |:--- |:--- |:--- |:--- |\n",
       "| all     | local | eigen | illcond | posdef | regprob | symmetric   |     |     |     |     |     |     |\n",
       "| builtin | user  | graph | inverse | random | sparse  | paper1_test |     |     |     |     |     |     |\n",
       "\n",
       "| Suite Sparse | of   |\n",
       "|:------------ |:---- |\n",
       "| 2777         | 2893 |\n",
       "\n",
       "| MatrixMarket | of  |\n",
       "|:------------ |:--- |\n",
       "| 488          | 498 |\n"
      ],
      "text/plain": [
       "\u001b[1m  Currently loaded Matrices\u001b[22m\n",
       "\u001b[1m  –––––––––––––––––––––––––––\u001b[22m\n",
       "\n",
       "  builtin(#)                                                    \n",
       "  ––––––––––– ––––––––––– –––––––––––– ––––––––––– –––––––––––––\n",
       "  1 baart     13 fiedler  25 invhilb   37 parter   49 shaw      \n",
       "  2 binomial  14 forsythe 26 invol     38 pascal   50 smallworld\n",
       "  3 blur      15 foxgood  27 kahan     39 pei      51 spikes    \n",
       "  4 cauchy    16 frank    28 kms       40 phillips 52 toeplitz  \n",
       "  5 chebspec  17 gilbert  29 lehmer    41 poisson  53 tridiag   \n",
       "  6 chow      18 golub    30 lotkin    42 prolate  54 triw      \n",
       "  7 circul    19 gravity  31 magic     43 randcorr 55 ursell    \n",
       "  8 clement   20 grcar    32 minij     44 rando    56 vand      \n",
       "  9 companion 21 hadamard 33 moler     45 randsvd  57 wathen    \n",
       "  10 deriv2   22 hankel   34 neumann   46 rohess   58 wilkinson \n",
       "  11 dingdong 23 heat     35 oscillate 47 rosser   59 wing      \n",
       "  12 erdrey   24 hilb     36 parallax  48 sampling              \n",
       "\n",
       "  user(#)\n",
       "  –––––––\n",
       "\n",
       "  Groups                                                      \n",
       "  ––––––– ––––– ––––– ––––––– –––––– ––––––– –––––––––––      \n",
       "  all     local eigen illcond posdef regprob symmetric        \n",
       "  builtin user  graph inverse random sparse  paper1_test      \n",
       "\n",
       "  Suite Sparse of  \n",
       "  –––––––––––– ––––\n",
       "  2777         2893\n",
       "\n",
       "  MatrixMarket of \n",
       "  –––––––––––– –––\n",
       "  488          498"
      ]
     },
     "metadata": {},
     "output_type": "display_data"
    }
   ],
   "source": [
    "mdinfo()"
   ]
  },
  {
   "cell_type": "markdown",
   "metadata": {},
   "source": [
    "show all the `symmetric` and `pos-def` matrices in the collection"
   ]
  },
  {
   "cell_type": "code",
   "execution_count": 220,
   "metadata": {
    "collapsed": false
   },
   "outputs": [
    {
     "data": {
      "text/plain": [
       "14-element Vector{String}:\n",
       " \"cauchy\"\n",
       " \"circul\"\n",
       " \"hilb\"\n",
       " \"invhilb\"\n",
       " \"kms\"\n",
       " \"lehmer\"\n",
       " \"minij\"\n",
       " \"moler\"\n",
       " \"oscillate\"\n",
       " \"pascal\"\n",
       " \"pei\"\n",
       " \"poisson\"\n",
       " \"tridiag\"\n",
       " \"wathen\""
      ]
     },
     "metadata": {},
     "output_type": "display_data"
    }
   ],
   "source": [
    "mdlist(:symmetric & :posdef)"
   ]
  },
  {
   "cell_type": "code",
   "execution_count": 221,
   "metadata": {
    "collapsed": false
   },
   "outputs": [
    {
     "data": {
      "text/latex": [
       "\\section{Magic Square Matrix (magic)}\n",
       "The magic matrix is a matrix with integer entries such that     the row elements, column elements, diagonal elements and     anti-diagonal elements all add up to the same number.\n",
       "\n",
       "\\emph{Input options:}\n",
       "\n",
       "\\begin{itemize}\n",
       "\\item [type,] dim: the dimension of the matrix.\n",
       "\n",
       "\\end{itemize}\n",
       "\\emph{Groups:} [\"inverse\"]\n",
       "\n"
      ],
      "text/markdown": [
       "# Magic Square Matrix (magic)\n",
       "\n",
       "The magic matrix is a matrix with integer entries such that     the row elements, column elements, diagonal elements and     anti-diagonal elements all add up to the same number.\n",
       "\n",
       "*Input options:*\n",
       "\n",
       "  * [type,] dim: the dimension of the matrix.\n",
       "\n",
       "*Groups:* [\"inverse\"]\n"
      ],
      "text/plain": [
       "\u001b[1m  Magic Square Matrix (magic)\u001b[22m\n",
       "\u001b[1m  ≡≡≡≡≡≡≡≡≡≡≡≡≡≡≡≡≡≡≡≡≡≡≡≡≡≡≡≡≡\u001b[22m\n",
       "\n",
       "  The magic matrix is a matrix with integer entries such that the row\n",
       "  elements, column elements, diagonal elements and anti-diagonal elements all\n",
       "  add up to the same number.\n",
       "\n",
       "  \u001b[4mInput options:\u001b[24m\n",
       "\n",
       "    •  [type,] dim: the dimension of the matrix.\n",
       "\n",
       "  \u001b[4mGroups:\u001b[24m [\"inverse\"]"
      ]
     },
     "metadata": {},
     "output_type": "display_data"
    }
   ],
   "source": [
    "mdinfo(\"magic\")"
   ]
  },
  {
   "cell_type": "code",
   "execution_count": 222,
   "metadata": {
    "collapsed": false
   },
   "outputs": [
    {
     "data": {
      "text/plain": [
       "5×5 Matrix{Float64}:\n",
       " 17.0  24.0   1.0   8.0  15.0\n",
       " 23.0   5.0   7.0  14.0  16.0\n",
       "  4.0   6.0  13.0  20.0  22.0\n",
       " 10.0  12.0  19.0  21.0   3.0\n",
       " 11.0  18.0  25.0   2.0   9.0"
      ]
     },
     "metadata": {},
     "output_type": "display_data"
    }
   ],
   "source": [
    "A = matrixdepot(\"magic\", 5)"
   ]
  },
  {
   "cell_type": "code",
   "execution_count": 223,
   "metadata": {
    "collapsed": false
   },
   "outputs": [
    {
     "data": {
      "text/plain": [
       "5×5 Matrix{Float32}:\n",
       " 17.0  24.0   1.0   8.0  15.0\n",
       " 23.0   5.0   7.0  14.0  16.0\n",
       "  4.0   6.0  13.0  20.0  22.0\n",
       " 10.0  12.0  19.0  21.0   3.0\n",
       " 11.0  18.0  25.0   2.0   9.0"
      ]
     },
     "metadata": {},
     "output_type": "display_data"
    }
   ],
   "source": [
    "mdopen(\"magic\", Float32, 5).A"
   ]
  },
  {
   "cell_type": "markdown",
   "metadata": {},
   "source": [
    "A **magic square** is an arrangement of ``n^2`` distinct numbers in a ``n-by-n`` square matrix such that the numbers in each row, each column, and the numbers on the diagonal and anti-diagonal all add up to the same number."
   ]
  },
  {
   "cell_type": "code",
   "execution_count": 249,
   "metadata": {
    "collapsed": false
   },
   "outputs": [
    {
     "data": {
      "text/plain": [
       "1×5 Matrix{Float64}:\n",
       " 65.0  65.0  65.0  65.0  65.0"
      ]
     },
     "metadata": {},
     "output_type": "display_data"
    }
   ],
   "source": [
    "sum(A, dims=1)"
   ]
  },
  {
   "cell_type": "code",
   "execution_count": 250,
   "metadata": {
    "collapsed": false
   },
   "outputs": [
    {
     "data": {
      "text/plain": [
       "5×1 Matrix{Float64}:\n",
       " 65.0\n",
       " 65.0\n",
       " 65.0\n",
       " 65.0\n",
       " 65.0"
      ]
     },
     "metadata": {},
     "output_type": "display_data"
    }
   ],
   "source": [
    "sum(A, dims=2)"
   ]
  },
  {
   "cell_type": "code",
   "execution_count": 226,
   "metadata": {
    "collapsed": false
   },
   "outputs": [
    {
     "data": {
      "text/plain": [
       "65.0"
      ]
     },
     "metadata": {},
     "output_type": "display_data"
    }
   ],
   "source": [
    "sum(diag(A))"
   ]
  },
  {
   "cell_type": "code",
   "execution_count": 251,
   "metadata": {
    "collapsed": false
   },
   "outputs": [
    {
     "data": {
      "text/plain": [
       "65.0"
      ]
     },
     "metadata": {},
     "output_type": "display_data"
    }
   ],
   "source": [
    "p = 5:-1:1\n",
    "sum(diag(A[:,p]))"
   ]
  },
  {
   "cell_type": "code",
   "execution_count": 254,
   "metadata": {
    "collapsed": false
   },
   "outputs": [
    {
     "name": "stdout",
     "output_type": "stream",
     "text": [
      "A = [17.0 24.0 1.0 8.0 15.0; 23.0 5.0 7.0 14.0 16.0; 4.0 6.0 13.0 20.0 22.0; 10.0 12.0 19.0 21.0 3.0; 11.0 18.0 25.0 2.0 9.0]\n"
     ]
    },
    {
     "data": {
      "text/plain": [
       "5×5 Matrix{Float64}:\n",
       " 17.0  24.0   1.0   8.0  15.0\n",
       " 23.0   5.0   7.0  14.0  16.0\n",
       "  4.0   6.0  13.0  20.0  22.0\n",
       " 10.0  12.0  19.0  21.0   3.0\n",
       " 11.0  18.0  25.0   2.0   9.0"
      ]
     },
     "metadata": {},
     "output_type": "display_data"
    }
   ],
   "source": [
    "@show A"
   ]
  },
  {
   "cell_type": "code",
   "execution_count": 255,
   "metadata": {
    "collapsed": false
   },
   "outputs": [
    {
     "data": {
      "text/plain": [
       "12×12 Tridiagonal{Float64, Vector{Float64}}:\n",
       " 5.5  1.0   ⋅    ⋅    ⋅    ⋅    ⋅    ⋅    ⋅    ⋅    ⋅    ⋅ \n",
       " 1.0  4.5  1.0   ⋅    ⋅    ⋅    ⋅    ⋅    ⋅    ⋅    ⋅    ⋅ \n",
       "  ⋅   1.0  3.5  1.0   ⋅    ⋅    ⋅    ⋅    ⋅    ⋅    ⋅    ⋅ \n",
       "  ⋅    ⋅   1.0  2.5  1.0   ⋅    ⋅    ⋅    ⋅    ⋅    ⋅    ⋅ \n",
       "  ⋅    ⋅    ⋅   1.0  1.5  1.0   ⋅    ⋅    ⋅    ⋅    ⋅    ⋅ \n",
       "  ⋅    ⋅    ⋅    ⋅   1.0  0.5  1.0   ⋅    ⋅    ⋅    ⋅    ⋅ \n",
       "  ⋅    ⋅    ⋅    ⋅    ⋅   1.0  0.5  1.0   ⋅    ⋅    ⋅    ⋅ \n",
       "  ⋅    ⋅    ⋅    ⋅    ⋅    ⋅   1.0  1.5  1.0   ⋅    ⋅    ⋅ \n",
       "  ⋅    ⋅    ⋅    ⋅    ⋅    ⋅    ⋅   1.0  2.5  1.0   ⋅    ⋅ \n",
       "  ⋅    ⋅    ⋅    ⋅    ⋅    ⋅    ⋅    ⋅   1.0  3.5  1.0   ⋅ \n",
       "  ⋅    ⋅    ⋅    ⋅    ⋅    ⋅    ⋅    ⋅    ⋅   1.0  4.5  1.0\n",
       "  ⋅    ⋅    ⋅    ⋅    ⋅    ⋅    ⋅    ⋅    ⋅    ⋅   1.0  5.5"
      ]
     },
     "metadata": {},
     "output_type": "display_data"
    }
   ],
   "source": [
    "B = matrixdepot(\"wilkinson\", 12)"
   ]
  },
  {
   "cell_type": "code",
   "execution_count": 257,
   "metadata": {
    "collapsed": false
   },
   "outputs": [
    {
     "name": "stdout",
     "output_type": "stream",
     "text": [
      "Matrix(B) = [5.5 1.0 0.0 0.0 0.0 0.0 0.0 0.0 0.0 0.0 0.0 0.0; 1.0 4.5 1.0 0.0 0.0 0.0 0.0 0.0 0.0 0.0 0.0 0.0; 0.0 1.0 3.5 1.0 0.0 0.0 0.0 0.0 0.0 0.0 0.0 0.0; 0.0 0.0 1.0 2.5 1.0 0.0 0.0 0.0 0.0 0.0 0.0 0.0; 0.0 0.0 0.0 1.0 1.5 1.0 0.0 0.0 0.0 0.0 0.0 0.0; 0.0 0.0 0.0 0.0 1.0 0.5 1.0 0.0 0.0 0.0 0.0 0.0; 0.0 0.0 0.0 0.0 0.0 1.0 0.5 1.0 0.0 0.0 0.0 0.0; 0.0 0.0 0.0 0.0 0.0 0.0 1.0 1.5 1.0 0.0 0.0 0.0; 0.0 0.0 0.0 0.0 0.0 0.0 0.0 1.0 2.5 1.0 0.0 0.0; 0.0 0.0 0.0 0.0 0.0 0.0 0.0 0.0 1.0 3.5 1.0 0.0; 0.0 0.0 0.0 0.0 0.0 0.0 0.0 0.0 0.0 1.0 4.5 1.0; 0.0 0.0 0.0 0.0 0.0 0.0 0.0 0.0 0.0 0.0 1.0 5.5]\n"
     ]
    },
    {
     "data": {
      "text/plain": [
       "12×12 Matrix{Float64}:\n",
       " 5.5  1.0  0.0  0.0  0.0  0.0  0.0  0.0  0.0  0.0  0.0  0.0\n",
       " 1.0  4.5  1.0  0.0  0.0  0.0  0.0  0.0  0.0  0.0  0.0  0.0\n",
       " 0.0  1.0  3.5  1.0  0.0  0.0  0.0  0.0  0.0  0.0  0.0  0.0\n",
       " 0.0  0.0  1.0  2.5  1.0  0.0  0.0  0.0  0.0  0.0  0.0  0.0\n",
       " 0.0  0.0  0.0  1.0  1.5  1.0  0.0  0.0  0.0  0.0  0.0  0.0\n",
       " 0.0  0.0  0.0  0.0  1.0  0.5  1.0  0.0  0.0  0.0  0.0  0.0\n",
       " 0.0  0.0  0.0  0.0  0.0  1.0  0.5  1.0  0.0  0.0  0.0  0.0\n",
       " 0.0  0.0  0.0  0.0  0.0  0.0  1.0  1.5  1.0  0.0  0.0  0.0\n",
       " 0.0  0.0  0.0  0.0  0.0  0.0  0.0  1.0  2.5  1.0  0.0  0.0\n",
       " 0.0  0.0  0.0  0.0  0.0  0.0  0.0  0.0  1.0  3.5  1.0  0.0\n",
       " 0.0  0.0  0.0  0.0  0.0  0.0  0.0  0.0  0.0  1.0  4.5  1.0\n",
       " 0.0  0.0  0.0  0.0  0.0  0.0  0.0  0.0  0.0  0.0  1.0  5.5"
      ]
     },
     "metadata": {},
     "output_type": "display_data"
    }
   ],
   "source": [
    "@show Matrix(B)"
   ]
  },
  {
   "cell_type": "code",
   "execution_count": 231,
   "metadata": {
    "collapsed": false
   },
   "outputs": [
    {
     "data": {
      "text/plain": [
       "6×6 Matrix{Bool}:\n",
       " 0  1  1  0  1  1\n",
       " 1  0  0  1  1  0\n",
       " 1  0  0  1  0  1\n",
       " 1  1  0  0  1  1\n",
       " 1  0  0  0  0  0\n",
       " 0  1  0  0  0  0"
      ]
     },
     "metadata": {},
     "output_type": "display_data"
    }
   ],
   "source": [
    "matrixdepot(\"rando\", Bool, 6)"
   ]
  },
  {
   "cell_type": "markdown",
   "metadata": {},
   "source": [
    "We set the precision of ``BigFloat`` and generate matrices of arbitrary precision."
   ]
  },
  {
   "cell_type": "code",
   "execution_count": 259,
   "metadata": {
    "collapsed": false
   },
   "outputs": [
    {
     "data": {
      "text/plain": [
       "5×5 Matrix{BigFloat}:\n",
       " 1.0       0.5       0.333333  0.25      0.2\n",
       " 0.5       0.333333  0.25      0.2       0.166667\n",
       " 0.333333  0.25      0.2       0.166667  0.142857\n",
       " 0.25      0.2       0.166667  0.142857  0.125\n",
       " 0.2       0.166667  0.142857  0.125     0.111111"
      ]
     },
     "metadata": {},
     "output_type": "display_data"
    }
   ],
   "source": [
    "setprecision(200)\n",
    "H = matrixdepot(\"hilb\", BigFloat, 5)"
   ]
  },
  {
   "cell_type": "markdown",
   "metadata": {},
   "source": [
    "# Interface to Suite Sparse Matrix Collection and Matrix Market "
   ]
  },
  {
   "cell_type": "markdown",
   "metadata": {},
   "source": [
    "We need to run `MatrixDepot.update()`, if the remote repositories have added new matrices.\n",
    "\n",
    "That does not happen frequently."
   ]
  },
  {
   "cell_type": "markdown",
   "metadata": {},
   "source": [
    "Matrix Depot first check if the matrix is on the matrix data list before downloading it. "
   ]
  },
  {
   "cell_type": "code",
   "execution_count": null,
   "metadata": {
    "collapsed": false
   },
   "outputs": [],
   "source": [
    "matrixdepot(\"Collection/somematrix\")"
   ]
  },
  {
   "cell_type": "markdown",
   "metadata": {},
   "source": [
    "<p>HB/1138_bus (undirected graph drawing, UF Sparse Matrix Collection, Tim Davis and Yifan Hu)</p>\n",
    "<img src=\"files/1138_bus.jpg\">"
   ]
  },
  {
   "cell_type": "code",
   "execution_count": 287,
   "metadata": {
    "collapsed": false
   },
   "outputs": [
    {
     "data": {
      "text/plain": [
       "1138×1138 Symmetric{Float64, SparseMatrixCSC{Float64, Int64}}:\n",
       " 1474.78      0.0       0.0     …   0.0       0.0         0.0    0.0\n",
       "    0.0       9.13665   0.0         0.0       0.0         0.0    0.0\n",
       "    0.0       0.0      69.6147      0.0       0.0         0.0    0.0\n",
       "    0.0       0.0       0.0         0.0       0.0         0.0    0.0\n",
       "   -9.01713   0.0       0.0         0.0       0.0         0.0    0.0\n",
       "    0.0       0.0       0.0     …   0.0       0.0         0.0    0.0\n",
       "    0.0       0.0       0.0         0.0       0.0         0.0    0.0\n",
       "    0.0       0.0       0.0         0.0       0.0         0.0    0.0\n",
       "    0.0       0.0       0.0         0.0       0.0         0.0    0.0\n",
       "    0.0      -3.40599   0.0         0.0       0.0         0.0    0.0\n",
       "    ⋮                           ⋱             ⋮                \n",
       "    0.0       0.0       0.0         0.0       0.0         0.0    0.0\n",
       "    0.0       0.0       0.0     …   0.0     -24.3902      0.0    0.0\n",
       "    0.0       0.0       0.0         0.0       0.0         0.0    0.0\n",
       "    0.0       0.0       0.0         0.0       0.0         0.0    0.0\n",
       "    0.0       0.0       0.0         0.0       0.0         0.0    0.0\n",
       "    0.0       0.0       0.0        26.5639    0.0         0.0    0.0\n",
       "    0.0       0.0       0.0     …   0.0      46.1767      0.0    0.0\n",
       "    0.0       0.0       0.0         0.0       0.0     10000.0    0.0\n",
       "    0.0       0.0       0.0         0.0       0.0         0.0  117.647"
      ]
     },
     "metadata": {},
     "output_type": "display_data"
    }
   ],
   "source": [
    "A = matrixdepot(\"*/1138_bus\")"
   ]
  },
  {
   "cell_type": "code",
   "execution_count": 289,
   "metadata": {
    "collapsed": false
   },
   "outputs": [
    {
     "data": {
      "text/plain": [
       "1138×1138 SparseMatrixCSC{Float64, Int64} with 4054 stored entries:\n",
       "⣿⢟⡀⢸⠀⡀⠀⠀⠀⠀⠀⠀⠀⠀⢒⠀⠈⣀⠀⠜⠀⠀⠀⠀⠠⠁⠀⠀⠀⠀⠀⠀⠀⠀⠀⠀⠀⠀⠀⠀\n",
       "⣀⣈⠻⣦⡾⡀⠐⠂⠣⣤⢤⠤⠀⠀⢘⠸⢄⠀⠀⠀⠀⠀⠀⠀⢀⣀⠀⠀⠂⠀⠀⠀⠂⠀⠀⠀⠐⠒⠁⠀\n",
       "⠀⠠⠚⠫⠻⣦⣆⣐⡀⠄⠀⠌⠨⠁⠀⠀⠀⠈⠀⠂⠀⠀⠀⠀⠩⠐⡔⠀⠠⠄⠠⠀⠀⠀⠀⠉⠀⠀⠀⠀\n",
       "⠀⠀⠰⠀⢈⢹⣿⣿⡂⠀⠀⠀⠀⠀⠀⠀⠀⢀⠀⠀⠀⠀⠀⠀⠀⠀⡁⠀⠀⠀⠀⠀⠀⠀⠀⢀⠀⠀⠀⠀\n",
       "⠀⠀⠉⣦⠀⠌⠈⠈⣿⣿⣿⡶⠈⠀⠀⠀⠀⠀⠀⠀⠀⠀⠀⠀⠈⠀⠀⠀⠀⠀⠀⠀⠀⠀⠀⠀⠀⠀⠀⠀\n",
       "⠀⠀⠀⡗⡀⠄⠀⠀⢻⡿⢻⣶⡀⠀⠀⠀⠀⠀⠀⠀⠀⠀⠀⠀⠢⠀⠀⠀⠀⠀⠀⠀⠀⠀⠀⠀⠀⠀⠀⠀\n",
       "⠀⠀⠀⠀⠆⠂⠀⠀⠂⠀⠀⠈⢿⣷⡇⠀⢐⠀⠀⠀⠀⠀⠀⠀⠂⡂⠀⠀⠀⠀⠀⠀⠀⠀⠀⠀⠀⠀⠀⠀\n",
       "⠘⠐⣒⡐⠀⠀⠀⠀⠀⠀⠀⠀⠉⠉⠻⣦⣞⢡⣦⠢⠀⠀⠀⠀⠐⠋⠀⠀⠀⠀⠀⠀⠀⠀⠀⠀⠀⠀⠀⠀\n",
       "⠂⢠⠀⠑⡀⠀⠀⢀⠀⠀⠀⠀⠐⠐⠞⣙⠱⣦⣄⡋⡀⣀⡀⠀⠰⠲⠀⡀⢀⠀⠀⢀⣀⠈⠀⠀⠀⠀⠀⠀\n",
       "⣀⠄⠀⠀⠠⠀⠀⠀⠀⠀⠀⠀⠀⠀⠨⡛⡤⠹⡿⣯⡇⢀⠐⠒⠠⠀⠈⣛⠓⠀⠐⢰⠒⠛⣉⠀⠐⠒⠀⠂\n",
       "⠀⠀⠀⠀⠀⠀⠀⠀⠀⠀⠀⠀⠀⠀⠀⠀⠀⢨⠉⢉⢻⣶⣄⠂⠀⠀⠀⠍⠁⠀⠀⠁⠁⠀⠀⠀⠀⡆⠥⡀\n",
       "⠀⠀⠀⠀⠀⠀⠀⠀⠀⠀⠀⠀⠀⠀⠀⠀⠀⠈⢰⠀⠠⠙⢻⣶⡀⠀⠀⠈⠀⠀⠀⠀⠀⠀⠀⠀⣲⡂⠁⡄\n",
       "⠄⠂⠀⢰⢃⠂⠀⠀⠂⠀⠈⠂⠨⠠⡴⠀⢰⡂⠀⠂⠀⠀⠀⠈⢻⣶⣀⠀⠀⠀⠀⠀⠀⠀⠀⠀⠀⠀⠀⠀\n",
       "⠀⠀⠀⠀⠐⠉⠁⠈⠀⠀⠀⠀⠀⠀⠀⠀⠀⠠⣦⢠⡄⠄⡀⠀⠀⠘⠻⣦⣔⠀⠀⠀⠀⡄⠀⠀⠀⠀⣀⣄\n",
       "⠀⠀⠈⠀⠀⠆⠀⠀⠀⠀⠀⠀⠀⠀⠀⠀⠀⠐⠙⠀⠁⠀⠀⠀⠀⠀⠐⠙⠻⣦⣼⠛⠛⠀⠀⠀⠀⠀⠀⠉\n",
       "⠀⠀⠀⠀⠀⠂⠀⠀⠀⠀⠀⠀⠀⠀⠀⠀⠀⢀⢐⣀⠄⠀⠀⠀⠀⠀⠀⠀⣶⠛⢻⣶⣶⣄⢀⠀⠀⠀⠀⡆\n",
       "⠀⠀⠈⠀⠀⠀⠀⠀⠀⠀⠀⠀⠀⠀⠀⠀⡀⠘⣼⠀⠁⠀⠀⠀⠀⠀⠀⠤⠛⠀⠘⢿⠻⣦⡌⠀⠀⠀⠀⠙\n",
       "⠀⠀⠀⠀⡄⠀⠀⢀⠀⠀⠀⠀⠀⠀⠀⠀⠀⠀⠃⠘⠀⠀⠀⠀⠀⠀⠀⠀⠀⠀⠀⠐⠂⠉⠛⣤⡄⠀⠀⠀\n",
       "⠀⠀⢰⠀⠀⠀⠀⠀⠀⠀⠀⠀⠀⠀⠀⠀⠀⠀⢰⠀⠠⠤⠸⠺⠀⠀⠀⠀⠀⠀⠀⠀⠀⠀⠀⠉⠛⣤⡤⡀\n",
       "⠀⠀⠁⠀⠀⠀⠀⠀⠀⠀⠀⠀⠀⠀⠀⠀⠀⠀⠠⠀⠁⠣⠁⠤⠀⠀⠀⢼⡄⠀⠠⠤⣄⠀⠀⠀⠀⠫⠿⣧"
      ]
     },
     "metadata": {},
     "output_type": "display_data"
    }
   ],
   "source": [
    "@show sparse(A)"
   ]
  },
  {
   "cell_type": "markdown",
   "metadata": {},
   "source": [
    "show all the downloaded matrices with certain properties"
   ]
  },
  {
   "cell_type": "code",
   "execution_count": 290,
   "metadata": {
    "collapsed": false
   },
   "outputs": [
    {
     "data": {
      "text/plain": [
       "47-element Vector{String}:\n",
       " \"HB/abb313\"\n",
       " \"HB/ash331\"\n",
       " \"HB/ash608\"\n",
       " \"HB/ash958\"\n",
       " \"HB/illc1850\"\n",
       " \"HB/well1850\"\n",
       " \"Harwell-Boeing/lsq/illc1850\"\n",
       " \"Harwell-Boeing/lsq/well1850\"\n",
       " \"Harwell-Boeing/smtape/abb313\"\n",
       " \"Harwell-Boeing/smtape/ash331\"\n",
       " ⋮\n",
       " \"JGD_Relat/relat5\"\n",
       " \"JGD_Relat/relat6\"\n",
       " \"JGD_SL6/D_5\"\n",
       " \"JGD_SL6/D_6\"\n",
       " \"JGD_Taha/abtaha1\"\n",
       " \"NYPA/Maragal_2\"\n",
       " \"Pajek/WorldCities\"\n",
       " \"Priebel/130bit\"\n",
       " \"Priebel/145bit\""
      ]
     },
     "metadata": {},
     "output_type": "display_data"
    }
   ],
   "source": [
    "mdlist(isloaded & @pred(n < 1000 & m > 200) & !issymmetric) "
   ]
  },
  {
   "cell_type": "markdown",
   "metadata": {},
   "source": [
    "Define a new group for a paper"
   ]
  },
  {
   "cell_type": "code",
   "execution_count": 291,
   "metadata": {
    "collapsed": false
   },
   "outputs": [],
   "source": [
    "setgroup!(:paper1_test, [\"HB/1138_bus\", \"hilb\", \"cauchy\", \"pei\"])"
   ]
  },
  {
   "cell_type": "code",
   "execution_count": 292,
   "metadata": {
    "collapsed": false
   },
   "outputs": [
    {
     "data": {
      "text/plain": [
       "4-element Vector{String}:\n",
       " \"HB/1138_bus\"\n",
       " \"cauchy\"\n",
       " \"hilb\"\n",
       " \"pei\""
      ]
     },
     "metadata": {},
     "output_type": "display_data"
    }
   ],
   "source": [
    "mdlist(:paper1_test)"
   ]
  },
  {
   "cell_type": "code",
   "execution_count": 294,
   "metadata": {},
   "outputs": [
    {
     "data": {
      "text/latex": [
       "\\begin{tabular}\n",
       "{l | l | l | l}\n",
       "list(4) &  &  &  \\\\\n",
       "\\hline\n",
       "HB/1138\\_bus & cauchy & hilb & pei \\\\\n",
       "\\end{tabular}\n"
      ],
      "text/markdown": [
       "| list(4)     |        |      |     |\n",
       "|:----------- |:------ |:---- |:--- |\n",
       "| HB/1138_bus | cauchy | hilb | pei |\n"
      ],
      "text/plain": [
       "  list(4)                    \n",
       "  ––––––––––– –––––– –––– –––\n",
       "  HB/1138_bus cauchy hilb pei"
      ]
     },
     "metadata": {},
     "output_type": "display_data"
    }
   ],
   "source": [
    "listnames(:paper1_test)"
   ]
  }
 ],
 "metadata": {
  "kernelspec": {
   "display_name": "Julia 1.8.0-DEV",
   "language": "julia",
   "name": "julia-1.8"
  },
  "language_info": {
   "file_extension": ".jl",
   "mimetype": "application/julia",
   "name": "julia",
   "version": "1.8.0-DEV"
  }
 },
 "nbformat": 4,
 "nbformat_minor": 0
}
