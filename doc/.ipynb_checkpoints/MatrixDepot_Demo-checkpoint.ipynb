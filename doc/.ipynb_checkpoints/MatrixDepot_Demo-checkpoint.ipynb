{
 "cells": [
  {
   "cell_type": "markdown",
   "metadata": {},
   "source": [
    "# Demo"
   ]
  },
  {
   "cell_type": "code",
   "execution_count": 2,
   "metadata": {
    "collapsed": false
   },
   "outputs": [],
   "source": [
    "using MatrixDepot\n",
    "using PyPlot"
   ]
  },
  {
   "cell_type": "markdown",
   "metadata": {},
   "source": [
    "## Basic\n",
    "\n",
    "display all the matrices in the collection"
   ]
  },
  {
   "cell_type": "code",
   "execution_count": 3,
   "metadata": {
    "collapsed": false
   },
   "outputs": [
    {
     "name": "stdout",
     "output_type": "stream",
     "text": [
      "\n",
      "Matrices:\n",
      "   1) baart            2) binomial         3) cauchy           4) chebspec      \n",
      "   5) chow             6) circul           7) clement          8) deriv2        \n",
      "   9) dingdong        10) fiedler         11) forsythe        12) foxgood       \n",
      "  13) frank           14) grcar           15) hadamard        16) heat          \n",
      "  17) hilb            18) invhilb         19) invol           20) kahan         \n",
      "  21) kms             22) lehmer          23) lotkin          24) magic         \n",
      "  25) minij           26) moler           27) neumann         28) oscillate     \n",
      "  29) parter          30) pascal          31) pei             32) phillips      \n",
      "  33) poisson         34) prolate         35) randcorr        36) rando         \n",
      "  37) randsvd         38) rohess          39) rosser          40) sampling      \n",
      "  41) shaw            42) toeplitz        43) tridiag         44) triw          \n",
      "  45) vand            46) wathen          47) wilkinson       48) wing          \n",
      "\n",
      "Groups:\n",
      "  data          eigen         ill-cond      inverse     \n",
      "  pos-def       random        regprob       sparse      \n",
      "  symmetric   \n"
     ]
    }
   ],
   "source": [
    "matrixdepot()"
   ]
  },
  {
   "cell_type": "markdown",
   "metadata": {},
   "source": [
    "show all the ``symmetric`` and ``pos-def`` matrices in the collection"
   ]
  },
  {
   "cell_type": "code",
   "execution_count": 4,
   "metadata": {
    "collapsed": false
   },
   "outputs": [
    {
     "data": {
      "text/plain": [
       "14-element Array{ASCIIString,1}:\n",
       " \"hilb\"     \n",
       " \"cauchy\"   \n",
       " \"circul\"   \n",
       " \"invhilb\"  \n",
       " \"moler\"    \n",
       " \"pascal\"   \n",
       " \"pei\"      \n",
       " \"minij\"    \n",
       " \"tridiag\"  \n",
       " \"lehmer\"   \n",
       " \"poisson\"  \n",
       " \"kms\"      \n",
       " \"wathen\"   \n",
       " \"oscillate\""
      ]
     },
     "execution_count": 4,
     "metadata": {},
     "output_type": "execute_result"
    }
   ],
   "source": [
    "matrixdepot(\"symmetric\", \"pos-def\")"
   ]
  },
  {
   "cell_type": "code",
   "execution_count": 2,
   "metadata": {
    "collapsed": false
   },
   "outputs": [
    {
     "name": "stdout",
     "output_type": "stream",
     "text": [
      "Magic square matrix:\n",
      "             \n",
      " Input options:\n",
      "             \n",
      " [type,] dim: the dimension of the matrix.\n",
      "             \n",
      " ['inverse']\n"
     ]
    }
   ],
   "source": [
    "matrixdepot(\"magic\")"
   ]
  },
  {
   "cell_type": "code",
   "execution_count": 17,
   "metadata": {
    "collapsed": false
   },
   "outputs": [
    {
     "data": {
      "text/plain": [
       "5x5 Array{Int64,2}:\n",
       " 17  24   1   8  15\n",
       " 23   5   7  14  16\n",
       "  4   6  13  20  22\n",
       " 10  12  19  21   3\n",
       " 11  18  25   2   9"
      ]
     },
     "execution_count": 17,
     "metadata": {},
     "output_type": "execute_result"
    }
   ],
   "source": [
    "A = matrixdepot(\"magic\", 5)"
   ]
  },
  {
   "cell_type": "code",
   "execution_count": 27,
   "metadata": {
    "collapsed": false
   },
   "outputs": [
    {
     "data": {
      "text/plain": [
       "5x5 Array{Float32,2}:\n",
       " 17.0  24.0   1.0   8.0  15.0\n",
       " 23.0   5.0   7.0  14.0  16.0\n",
       "  4.0   6.0  13.0  20.0  22.0\n",
       " 10.0  12.0  19.0  21.0   3.0\n",
       " 11.0  18.0  25.0   2.0   9.0"
      ]
     },
     "execution_count": 27,
     "metadata": {},
     "output_type": "execute_result"
    }
   ],
   "source": [
    "matrixdepot(\"magic\", Float32, 5)"
   ]
  },
  {
   "cell_type": "markdown",
   "metadata": {},
   "source": [
    "A **magic square** is an arrangement of ``n^2`` distinct numbers in a ``n-by-n`` square matrix such that the numbers in each row, each column, and the numbers on the diagonal and anti-diagonal all add up to the same number."
   ]
  },
  {
   "cell_type": "code",
   "execution_count": 16,
   "metadata": {
    "collapsed": false
   },
   "outputs": [
    {
     "data": {
      "text/plain": [
       "1x5 Array{Int64,2}:\n",
       " 65  65  65  65  65"
      ]
     },
     "execution_count": 16,
     "metadata": {},
     "output_type": "execute_result"
    }
   ],
   "source": [
    "sum(A,1)"
   ]
  },
  {
   "cell_type": "code",
   "execution_count": 17,
   "metadata": {
    "collapsed": false
   },
   "outputs": [
    {
     "data": {
      "text/plain": [
       "5x1 Array{Int64,2}:\n",
       " 65\n",
       " 65\n",
       " 65\n",
       " 65\n",
       " 65"
      ]
     },
     "execution_count": 17,
     "metadata": {},
     "output_type": "execute_result"
    }
   ],
   "source": [
    "sum(A,2)"
   ]
  },
  {
   "cell_type": "code",
   "execution_count": 19,
   "metadata": {
    "collapsed": false
   },
   "outputs": [
    {
     "data": {
      "text/plain": [
       "65"
      ]
     },
     "execution_count": 19,
     "metadata": {},
     "output_type": "execute_result"
    }
   ],
   "source": [
    "sum(diag(A))"
   ]
  },
  {
   "cell_type": "code",
   "execution_count": 22,
   "metadata": {
    "collapsed": false
   },
   "outputs": [
    {
     "data": {
      "text/plain": [
       "65"
      ]
     },
     "execution_count": 22,
     "metadata": {},
     "output_type": "execute_result"
    }
   ],
   "source": [
    "p = [5:-1:1]\n",
    "sum(diag(A[:,p]))"
   ]
  },
  {
   "cell_type": "code",
   "execution_count": 7,
   "metadata": {
    "collapsed": false
   },
   "outputs": [
    {
     "data": {
      "image/png": "[encoded data removed]",
      "text/plain": [
       "Figure(PyObject <matplotlib.figure.Figure object at 0xbea8410>)"
      ]
     },
     "metadata": {},
     "output_type": "display_data"
    },
    {
     "data": {
      "text/plain": [
       "PyObject <matplotlib.image.AxesImage object at 0xce28d10>"
      ]
     },
     "execution_count": 7,
     "metadata": {},
     "output_type": "execute_result"
    }
   ],
   "source": [
    "matshow(A)"
   ]
  },
  {
   "cell_type": "code",
   "execution_count": 9,
   "metadata": {
    "collapsed": false
   },
   "outputs": [
    {
     "data": {
      "text/plain": [
       "12x12 Tridiagonal{Float64}:\n",
       " 5.5  1.0  0.0  0.0  0.0  0.0  0.0  0.0  0.0  0.0  0.0  0.0\n",
       " 1.0  4.5  1.0  0.0  0.0  0.0  0.0  0.0  0.0  0.0  0.0  0.0\n",
       " 0.0  1.0  3.5  1.0  0.0  0.0  0.0  0.0  0.0  0.0  0.0  0.0\n",
       " 0.0  0.0  1.0  2.5  1.0  0.0  0.0  0.0  0.0  0.0  0.0  0.0\n",
       " 0.0  0.0  0.0  1.0  1.5  1.0  0.0  0.0  0.0  0.0  0.0  0.0\n",
       " 0.0  0.0  0.0  0.0  1.0  0.5  1.0  0.0  0.0  0.0  0.0  0.0\n",
       " 0.0  0.0  0.0  0.0  0.0  1.0  0.5  1.0  0.0  0.0  0.0  0.0\n",
       " 0.0  0.0  0.0  0.0  0.0  0.0  1.0  1.5  1.0  0.0  0.0  0.0\n",
       " 0.0  0.0  0.0  0.0  0.0  0.0  0.0  1.0  2.5  1.0  0.0  0.0\n",
       " 0.0  0.0  0.0  0.0  0.0  0.0  0.0  0.0  1.0  3.5  1.0  0.0\n",
       " 0.0  0.0  0.0  0.0  0.0  0.0  0.0  0.0  0.0  1.0  4.5  1.0\n",
       " 0.0  0.0  0.0  0.0  0.0  0.0  0.0  0.0  0.0  0.0  1.0  5.5"
      ]
     },
     "execution_count": 9,
     "metadata": {},
     "output_type": "execute_result"
    }
   ],
   "source": [
    "B = matrixdepot(\"wilkinson\", 12)"
   ]
  },
  {
   "cell_type": "code",
   "execution_count": 10,
   "metadata": {
    "collapsed": false
   },
   "outputs": [
    {
     "data": {
      "image/png": "[encoded data removed]",
      "text/plain": [
       "Figure(PyObject <matplotlib.figure.Figure object at 0xbecbf10>)"
      ]
     },
     "metadata": {},
     "output_type": "display_data"
    },
    {
     "data": {
      "text/plain": [
       "PyObject <matplotlib.image.AxesImage object at 0xd475e10>"
      ]
     },
     "execution_count": 10,
     "metadata": {},
     "output_type": "execute_result"
    }
   ],
   "source": [
    "matshow(full(B))"
   ]
  },
  {
   "cell_type": "code",
   "execution_count": 16,
   "metadata": {
    "collapsed": false
   },
   "outputs": [
    {
     "data": {
      "text/plain": [
       "6x6 Array{Bool,2}:\n",
       "  true  false  false  false   true   true\n",
       " false  false  false  false  false  false\n",
       "  true   true   true   true  false  false\n",
       " false  false  false   true  false   true\n",
       "  true   true  false  false   true   true\n",
       "  true  false   true   true  false   true"
      ]
     },
     "execution_count": 16,
     "metadata": {},
     "output_type": "execute_result"
    }
   ],
   "source": [
    "matrixdepot(\"rando\", Bool, 6)"
   ]
  },
  {
   "cell_type": "markdown",
   "metadata": {},
   "source": [
    "We set the precision of ``BigFloat`` and generate matrices of arbitrary precision."
   ]
  },
  {
   "cell_type": "code",
   "execution_count": 26,
   "metadata": {
    "collapsed": false
   },
   "outputs": [
    {
     "data": {
      "text/plain": [
       "5x5 Array{BigFloat,2}:\n",
       " 1e+00                                                                …  2.0000000000000000000000000000000000000000000000000000000000003e-01\n",
       " 5e-01                                                                   1.6666666666666666666666666666666666666666666666666666666666672e-01\n",
       " 3.3333333333333333333333333333333333333333333333333333333333344e-01     1.428571428571428571428571428571428571428571428571428571428571e-01 \n",
       " 2.5e-01                                                                 1.25e-01                                                           \n",
       " 2.0000000000000000000000000000000000000000000000000000000000003e-01     1.1111111111111111111111111111111111111111111111111111111111115e-01"
      ]
     },
     "execution_count": 26,
     "metadata": {},
     "output_type": "execute_result"
    }
   ],
   "source": [
    "set_bigfloat_precision(200)\n",
    "H = matrixdepot(\"hilb\", BigFloat, 5)"
   ]
  },
  {
   "cell_type": "markdown",
   "metadata": {},
   "source": [
    "## Polar Decomposition\n",
    "\n",
    "``PolarFact`` is a Julia package for computing the matrix polar decomposition. It includes algorithms like Newton's method (``:newton``), the QDWH method (``:qdwh``), a hybrid Newton's method (``:hybrid``) and the\n",
    "Halley method (``:halley``).\n",
    "\n",
    "We can use Matrix Depot to compare the performance of these algorithms."
   ]
  },
  {
   "cell_type": "code",
   "execution_count": 11,
   "metadata": {
    "collapsed": false
   },
   "outputs": [
    {
     "name": "stderr",
     "output_type": "stream",
     "text": [
      "INFO: Cloning cache of PolarFact from git://github.com/weijianzhang/PolarFact.jl.git\n",
      "INFO: Installing PolarFact v0.0.5\n",
      "INFO: Package database updated\n"
     ]
    }
   ],
   "source": [
    "Pkg.add(\"PolarFact\")"
   ]
  },
  {
   "cell_type": "code",
   "execution_count": 10,
   "metadata": {
    "collapsed": false
   },
   "outputs": [],
   "source": [
    "using PolarFact"
   ]
  },
  {
   "cell_type": "markdown",
   "metadata": {},
   "source": [
    "Compare the number of iterations of four polar decomposition algorithms"
   ]
  },
  {
   "cell_type": "code",
   "execution_count": 3,
   "metadata": {
    "collapsed": false
   },
   "outputs": [],
   "source": [
    "n = length(matrixdepot(\"inverse\", \"symmetric\"))\n",
    "niters = zeros(4, n)\n",
    "for (i,mat) in enumerate(matrixdepot(\"inverse\", \"symmetric\"))\n",
    "    A = matrixdepot(mat, Float64, 12)\n",
    "    A = full(A)\n",
    "    r_newton = polarfact(A, alg = :newton)\n",
    "    r_qdwh = polarfact(A, alg = :qdwh)\n",
    "    r_hybird = polarfact(A, alg = :hybrid)\n",
    "    r_halley = polarfact(A, alg = :halley)\n",
    "    niters[1, i] = r_newton.niters\n",
    "    niters[2, i] = r_qdwh.niters\n",
    "    niters[3, i] = r_hybird.niters\n",
    "    niters[4, i] = r_halley.niters\n",
    "end"
   ]
  },
  {
   "cell_type": "code",
   "execution_count": 5,
   "metadata": {
    "collapsed": false
   },
   "outputs": [
    {
     "data": {
      "text/plain": [
       "Figure(PyObject <matplotlib.figure.Figure object at 0xbea2c90>)"
      ]
     },
     "metadata": {},
     "output_type": "display_data"
    },
    {
     "data": {
      "image/png": "[encoded data removed]",
      "text/plain": [
       "Figure(PyObject <matplotlib.figure.Figure object at 0xd4fc690>)"
      ]
     },
     "metadata": {},
     "output_type": "display_data"
    },
    {
     "data": {
      "text/plain": [
       "PyObject <matplotlib.legend.Legend object at 0xd52f350>"
      ]
     },
     "execution_count": 5,
     "metadata": {},
     "output_type": "execute_result"
    }
   ],
   "source": [
    "plt.figure()\n",
    "for i in 1:4\n",
    "    x = [1:n]\n",
    "    y = niters[i,:][:]\n",
    "    plt.plot(x,y, \".-\")\n",
    "    plt.hold(\"on\")\n",
    "end\n",
    "plt.xlabel(\"test matrices\")\n",
    "plt.ylabel(\"number of iterations\")\n",
    "plt.legend([\"newton\", \"qdwh\", \"hybird\", \"halley\"])"
   ]
  },
  {
   "cell_type": "markdown",
   "metadata": {},
   "source": [
    "# Interface to UF Sparse Matrix Collection and Matrix Market "
   ]
  },
  {
   "cell_type": "markdown",
   "metadata": {},
   "source": [
    "We first run ``MatrixDepot.update()``, which download two html matrix name lists.  "
   ]
  },
  {
   "cell_type": "code",
   "execution_count": 2,
   "metadata": {
    "collapsed": false
   },
   "outputs": [
    {
     "name": "stderr",
     "output_type": "stream",
     "text": [
      "  % Total    % Received % Xferd  Average Speed   Time    Time     Time  Current\n",
      "                                 Dload  Upload   Total   Spent    Left  Speed\n",
      "100 1808k    0 1808k    0     0   521k      0 --:--:--  0:00:03 --:--:--  521k\n"
     ]
    }
   ],
   "source": [
    "MatrixDepot.update()"
   ]
  },
  {
   "cell_type": "markdown",
   "metadata": {},
   "source": [
    "Matrix Depot first check if the matrix is on the matrix data list before downloading it. "
   ]
  },
  {
   "cell_type": "code",
   "execution_count": 5,
   "metadata": {
    "collapsed": false
   },
   "outputs": [
    {
     "ename": "LoadError",
     "evalue": "LoadError: can not find Collection/somematrix in UF sparse matrix collection\nwhile loading In[5], in expression starting on line 1",
     "output_type": "error",
     "traceback": [
      "LoadError: can not find Collection/somematrix in UF sparse matrix collection\nwhile loading In[5], in expression starting on line 1",
      "",
      " in error at ./error.jl:21",
      " in get at /home/weijian/.julia/v0.4/MatrixDepot/src/download.jl:149",
      " in matrixdepot at /home/weijian/.julia/v0.4/MatrixDepot/src/common.jl:227"
     ]
    }
   ],
   "source": [
    "matrixdepot(\"Collection/somematrix\", :get)"
   ]
  },
  {
   "cell_type": "markdown",
   "metadata": {},
   "source": [
    "<p>HB/1138_bus (undirected graph drawing, UF Sparse Matrix Collection, Tim Davis and Yifan Hu)</p>\n",
    "<img src=\"files/1138_bus.jpg\">"
   ]
  },
  {
   "cell_type": "code",
   "execution_count": 6,
   "metadata": {
    "collapsed": false
   },
   "outputs": [
    {
     "name": "stdout",
     "output_type": "stream",
     "text": [
      "download:/home/weijian/.julia/v0.4/MatrixDepot/data/uf/HB/1138_bus.tar.gz\n",
      "1138_bus/1138_bus.mtx\n"
     ]
    }
   ],
   "source": [
    "matrixdepot(\"HB/1138_bus\", :get)"
   ]
  },
  {
   "cell_type": "code",
   "execution_count": 7,
   "metadata": {
    "collapsed": false
   },
   "outputs": [
    {
     "name": "stdout",
     "output_type": "stream",
     "text": [
      "\n",
      "Matrices:\n",
      "   1) baart            2) binomial         3) cauchy           4) chebspec      \n",
      "   5) chow             6) circul           7) clement          8) deriv2        \n",
      "   9) dingdong        10) fiedler         11) forsythe        12) foxgood       \n",
      "  13) frank           14) grcar           15) hadamard        16) heat          \n",
      "  17) hilb            18) invhilb         19) invol           20) kahan         \n",
      "  21) kms             22) lehmer          23) lotkin          24) magic         \n",
      "  25) minij           26) moler           27) neumann         28) oscillate     \n",
      "  29) parter          30) pascal          31) pei             32) phillips      \n",
      "  33) poisson         34) prolate         35) randcorr        36) rando         \n",
      "  37) randsvd         38) rohess          39) rosser          40) sampling      \n",
      "  41) shaw            42) toeplitz        43) tridiag         44) triw          \n",
      "  45) vand            46) wathen          47) wilkinson       48) wing          \n",
      "  49) HB/1138_bus   \n",
      "Groups:\n",
      "  data          eigen         ill-cond      inverse     \n",
      "  pos-def       random        regprob       sparse      \n",
      "  symmetric   \n"
     ]
    }
   ],
   "source": [
    "matrixdepot() "
   ]
  },
  {
   "cell_type": "code",
   "execution_count": 8,
   "metadata": {
    "collapsed": false
   },
   "outputs": [
    {
     "name": "stdout",
     "output_type": "stream",
     "text": [
      "\n",
      "%%MatrixMarket matrix coordinate real symmetric\n",
      "%-------------------------------------------------------------------------------\n",
      "% UF Sparse Matrix Collection, Tim Davis\n",
      "% http://www.cise.ufl.edu/research/sparse/matrices/HB/1138_bus\n",
      "% name: HB/1138_bus\n",
      "% [S ADMITTANCE MATRIX 1138 BUS POWER SYSTEM, D.J.TYLAVSKY, JULY 1985.]\n",
      "% id: 1\n",
      "% date: 1985\n",
      "% author: D. Tylavsky\n",
      "% ed: I. Duff, R. Grimes, J. Lewis\n",
      "% fields: title A name id date author ed kind\n",
      "% kind: power network problem\n",
      "%-------------------------------------------------------------------------------\n",
      "\n",
      "use matrixdepot(\"HB/1138_bus\", :read) to read the data\n"
     ]
    }
   ],
   "source": [
    "matrixdepot(\"HB/1138_bus\")"
   ]
  },
  {
   "cell_type": "code",
   "execution_count": 6,
   "metadata": {
    "collapsed": false
   },
   "outputs": [
    {
     "data": {
      "text/plain": [
       "1138x1138 sparse matrix with 4054 Float64 entries:\n",
       "\t[1   ,    1]  =  1474.78\n",
       "\t[5   ,    1]  =  -9.01713\n",
       "\t[563 ,    1]  =  -5.73066\n",
       "\t[2   ,    2]  =  9.13665\n",
       "\t[10  ,    2]  =  -3.40599\n",
       "\t[563 ,    2]  =  -5.73066\n",
       "\t[3   ,    3]  =  69.6147\n",
       "\t[11  ,    3]  =  -8.81057\n",
       "\t[34  ,    3]  =  -31.1527\n",
       "\t[35  ,    3]  =  -16.0668\n",
       "\t⋮\n",
       "\t[1134, 1134]  =  10000.0\n",
       "\t[1124, 1135]  =  -10.7411\n",
       "\t[1129, 1135]  =  -15.8228\n",
       "\t[1135, 1135]  =  26.5639\n",
       "\t[1122, 1136]  =  -21.7865\n",
       "\t[1131, 1136]  =  -24.3902\n",
       "\t[1136, 1136]  =  46.1767\n",
       "\t[802 , 1137]  =  -10000.0\n",
       "\t[1137, 1137]  =  10000.0\n",
       "\t[805 , 1138]  =  -117.647\n",
       "\t[1138, 1138]  =  117.647"
      ]
     },
     "execution_count": 6,
     "metadata": {},
     "output_type": "execute_result"
    }
   ],
   "source": [
    "A = matrixdepot(\"HB/1138_bus\", :r)"
   ]
  },
  {
   "cell_type": "code",
   "execution_count": 23,
   "metadata": {
    "collapsed": false
   },
   "outputs": [
    {
     "data": {
      "image/png": "[encoded data removed]",
      "text/plain": [
       "Figure(PyObject <matplotlib.figure.Figure object at 0x8dd6b10>)"
      ]
     },
     "metadata": {},
     "output_type": "display_data"
    },
    {
     "data": {
      "text/plain": [
       "PyObject <matplotlib.image.AxesImage object at 0x7f30ca832150>"
      ]
     },
     "execution_count": 23,
     "metadata": {},
     "output_type": "execute_result"
    }
   ],
   "source": [
    "spy(A)"
   ]
  },
  {
   "cell_type": "markdown",
   "metadata": {},
   "source": [
    "show all the downloaded matrices"
   ]
  },
  {
   "cell_type": "code",
   "execution_count": 9,
   "metadata": {
    "collapsed": false
   },
   "outputs": [
    {
     "data": {
      "text/plain": [
       "1-element Array{AbstractString,1}:\n",
       " \"HB/1138_bus\""
      ]
     },
     "execution_count": 9,
     "metadata": {},
     "output_type": "execute_result"
    }
   ],
   "source": [
    "matrixdepot(\"data\")"
   ]
  },
  {
   "cell_type": "markdown",
   "metadata": {},
   "source": [
    "Define a new group for a paper"
   ]
  },
  {
   "cell_type": "code",
   "execution_count": 10,
   "metadata": {
    "collapsed": false
   },
   "outputs": [
    {
     "data": {
      "text/plain": [
       "99"
      ]
     },
     "execution_count": 10,
     "metadata": {},
     "output_type": "execute_result"
    }
   ],
   "source": [
    "@addgroup paper1_test = [\"HB/1138_bus\", \"hilb\", \"cauchy\", \"pei\"]"
   ]
  },
  {
   "cell_type": "code",
   "execution_count": 2,
   "metadata": {
    "collapsed": false
   },
   "outputs": [
    {
     "data": {
      "text/plain": [
       "4-element Array{ASCIIString,1}:\n",
       " \"HB/1138_bus\"\n",
       " \"hilb\"       \n",
       " \"cauchy\"     \n",
       " \"pei\"        "
      ]
     },
     "execution_count": 2,
     "metadata": {},
     "output_type": "execute_result"
    }
   ],
   "source": [
    "matrixdepot(\"paper1_test\")"
   ]
  }
 ],
 "metadata": {
  "kernelspec": {
   "display_name": "Julia 0.4.0-dev",
   "language": "julia",
   "name": "julia-0.4"
  },
  "language_info": {
   "name": "julia",
   "version": "0.4.0"
  }
 },
 "nbformat": 4,
 "nbformat_minor": 0
}
