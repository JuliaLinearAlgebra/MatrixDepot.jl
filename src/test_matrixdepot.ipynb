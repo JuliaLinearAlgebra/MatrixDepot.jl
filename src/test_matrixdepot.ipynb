{
 "metadata": {
  "language": "Julia",
  "name": "",
  "signature": "sha256:2587e7082db801dcb9ba8c31830a3a34045d72d1e8f4c7c81da7dc28fef38c36"
 },
 "nbformat": 3,
 "nbformat_minor": 0,
 "worksheets": [
  {
   "cells": [
    {
     "cell_type": "code",
     "collapsed": false,
     "input": [
      "using Compat\n",
      "using Autoreload\n",
      "arequire(\"higham.jl\")"
     ],
     "language": "python",
     "metadata": {},
     "outputs": [],
     "prompt_number": 3
    },
    {
     "cell_type": "code",
     "collapsed": false,
     "input": [
      "areload()"
     ],
     "language": "python",
     "metadata": {},
     "outputs": [],
     "prompt_number": 4
    },
    {
     "cell_type": "code",
     "collapsed": false,
     "input": [
      "M = triw(Int, 8, 7, 6, 4)"
     ],
     "language": "python",
     "metadata": {},
     "outputs": [
      {
       "metadata": {},
       "output_type": "pyout",
       "prompt_number": 14,
       "text": [
        "8x7 Array{Int64,2}:\n",
        " 1  6  6  6  6  0  0\n",
        " 0  1  6  6  6  6  0\n",
        " 0  0  1  6  6  6  6\n",
        " 0  0  0  1  6  6  6\n",
        " 0  0  0  0  1  6  6\n",
        " 0  0  0  0  0  1  6\n",
        " 0  0  0  0  0  0  1\n",
        " 0  0  0  0  0  0  0"
       ]
      }
     ],
     "prompt_number": 14
    },
    {
     "cell_type": "code",
     "collapsed": false,
     "input": [
      "convert(Int, 6.3)"
     ],
     "language": "python",
     "metadata": {},
     "outputs": [
      {
       "ename": "LoadError",
       "evalue": "InexactError()\nwhile loading In[12], in expression starting on line 1",
       "output_type": "pyerr",
       "traceback": [
        "InexactError()\nwhile loading In[12], in expression starting on line 1",
        "",
        " in convert at int.jl:299"
       ]
      }
     ],
     "prompt_number": 12
    },
    {
     "cell_type": "code",
     "collapsed": false,
     "input": [
      "n = 6\n",
      "k = 2\n",
      "G = tril(triu(ones(n,n)), k) - diagm(ones(n-1), -1)"
     ],
     "language": "python",
     "metadata": {},
     "outputs": [
      {
       "metadata": {},
       "output_type": "pyout",
       "prompt_number": 6,
       "text": [
        "6x6 Array{Float64,2}:\n",
        "  1.0   1.0   1.0   0.0   0.0  0.0\n",
        " -1.0   1.0   1.0   1.0   0.0  0.0\n",
        "  0.0  -1.0   1.0   1.0   1.0  0.0\n",
        "  0.0   0.0  -1.0   1.0   1.0  1.0\n",
        "  0.0   0.0   0.0  -1.0   1.0  1.0\n",
        "  0.0   0.0   0.0   0.0  -1.0  1.0"
       ]
      }
     ],
     "prompt_number": 6
    },
    {
     "cell_type": "code",
     "collapsed": false,
     "input": [
      "ones(5)"
     ],
     "language": "python",
     "metadata": {},
     "outputs": [
      {
       "metadata": {},
       "output_type": "pyout",
       "prompt_number": 3,
       "text": [
        "5-element Array{Float64,1}:\n",
        " 1.0\n",
        " 1.0\n",
        " 1.0\n",
        " 1.0\n",
        " 1.0"
       ]
      }
     ],
     "prompt_number": 3
    },
    {
     "cell_type": "code",
     "collapsed": false,
     "input": [
      "[[1:1], [7:6]]"
     ],
     "language": "python",
     "metadata": {},
     "outputs": [
      {
       "metadata": {},
       "output_type": "pyout",
       "prompt_number": 117,
       "text": [
        "1-element Array{Int64,1}:\n",
        " 1"
       ]
      }
     ],
     "prompt_number": 117
    },
    {
     "cell_type": "code",
     "collapsed": false,
     "input": [
      "p = [8:-1:1]\n",
      "sum(diag(M[:,p]))"
     ],
     "language": "python",
     "metadata": {},
     "outputs": [
      {
       "ename": "LoadError",
       "evalue": "BoundsError()\nwhile loading In[51], in expression starting on line 2",
       "output_type": "pyerr",
       "traceback": [
        "BoundsError()\nwhile loading In[51], in expression starting on line 2",
        "",
        " in checkbounds at abstractarray.jl:62",
        " in checkbounds at abstractarray.jl:70",
        " in getindex at multidimensional.jl:49"
       ]
      }
     ],
     "prompt_number": 51
    },
    {
     "cell_type": "code",
     "collapsed": false,
     "input": [
      "b = [1 0 ;0 1]"
     ],
     "language": "python",
     "metadata": {},
     "outputs": [
      {
       "metadata": {},
       "output_type": "pyout",
       "prompt_number": 51,
       "text": [
        "2x2 Array{Int64,2}:\n",
        " 1  0\n",
        " 0  1"
       ]
      }
     ],
     "prompt_number": 51
    },
    {
     "cell_type": "code",
     "collapsed": false,
     "input": [
      "for i = 1:2, j = 1:2\n",
      "    b[i,j] == 1 ? a[i,j] = a[i,j]^2 : a[i,j]\n",
      "end"
     ],
     "language": "python",
     "metadata": {},
     "outputs": [],
     "prompt_number": 54
    },
    {
     "cell_type": "code",
     "collapsed": false,
     "input": [
      "a"
     ],
     "language": "python",
     "metadata": {},
     "outputs": [
      {
       "metadata": {},
       "output_type": "pyout",
       "prompt_number": 55,
       "text": [
        "2x2 Array{Float64,2}:\n",
        " 1.0   2.0\n",
        " 3.0  16.0"
       ]
      }
     ],
     "prompt_number": 55
    },
    {
     "cell_type": "code",
     "collapsed": false,
     "input": [
      "F = MatrixDepot.matrixdepot(\"frank\", 5)\n"
     ],
     "language": "python",
     "metadata": {},
     "outputs": [
      {
       "metadata": {},
       "output_type": "pyout",
       "prompt_number": 44,
       "text": [
        "5x5 Array{Float64,2}:\n",
        " 5.0  4.0  3.0  2.0  1.0\n",
        " 4.0  4.0  3.0  2.0  1.0\n",
        " 0.0  3.0  3.0  2.0  1.0\n",
        " 0.0  0.0  2.0  2.0  1.0\n",
        " 0.0  0.0  0.0  1.0  1.0"
       ]
      }
     ],
     "prompt_number": 44
    },
    {
     "cell_type": "code",
     "collapsed": false,
     "input": [
      "n = 5\n",
      "A = zeros(n,n)\n",
      "i = 1\n",
      "j = (n+1)/2\n",
      "for k = 1:n^2\n",
      "    is = i\n",
      "    js = j\n",
      "    A[i,j] = k\n",
      "    i = n - rem(n+1-i,n)\n",
      "    j = rem(j,n) + 1\n",
      "    if A[i,j] != 0\n",
      "        i = rem(is,n) + 1\n",
      "        j = js\n",
      "    end\n",
      "end"
     ],
     "language": "python",
     "metadata": {},
     "outputs": [],
     "prompt_number": 73
    },
    {
     "cell_type": "code",
     "collapsed": false,
     "input": [
      "sum(A,2)"
     ],
     "language": "python",
     "metadata": {},
     "outputs": [
      {
       "metadata": {},
       "output_type": "pyout",
       "prompt_number": 76,
       "text": [
        "5x1 Array{Float64,2}:\n",
        " 65.0\n",
        " 65.0\n",
        " 65.0\n",
        " 65.0\n",
        " 65.0"
       ]
      }
     ],
     "prompt_number": 76
    },
    {
     "cell_type": "code",
     "collapsed": false,
     "input": [
      "MatrixDepot.matrixdepot(\"eigen\")"
     ],
     "language": "python",
     "metadata": {},
     "outputs": [
      {
       "metadata": {},
       "output_type": "pyout",
       "prompt_number": 51,
       "text": [
        "4-element Array{ASCIIString,1}:\n",
        " \"hadamard\"\n",
        " \"circul\"  \n",
        " \"dingdong\"\n",
        " \"frank\"   "
       ]
      }
     ],
     "prompt_number": 51
    },
    {
     "cell_type": "code",
     "collapsed": false,
     "input": [
      "include(\"../test/runtests.jl\")"
     ],
     "language": "python",
     "metadata": {},
     "outputs": [
      {
       "output_type": "stream",
       "stream": "stdout",
       "text": [
        "'cauchy' passed test...\n"
       ]
      },
      {
       "output_type": "stream",
       "stream": "stdout",
       "text": [
        "'circul' passed test...\n",
        "'hadamard' passed test..."
       ]
      },
      {
       "output_type": "stream",
       "stream": "stdout",
       "text": [
        "\n",
        "'hilb' passed test..."
       ]
      },
      {
       "output_type": "stream",
       "stream": "stdout",
       "text": [
        "\n",
        "'dingdong' passed test...\n",
        "'frank' passed test...\n",
        "Success in all tests.\n"
       ]
      }
     ],
     "prompt_number": 60
    },
    {
     "cell_type": "code",
     "collapsed": false,
     "input": [
      "p = -2*[1:3] + (3 + 1.5)"
     ],
     "language": "python",
     "metadata": {},
     "outputs": [
      {
       "metadata": {},
       "output_type": "pyout",
       "prompt_number": 17,
       "text": [
        "3-element Array{Float64,1}:\n",
        "  2.5\n",
        "  0.5\n",
        " -1.5"
       ]
      }
     ],
     "prompt_number": 17
    },
    {
     "cell_type": "code",
     "collapsed": false,
     "input": [
      "MatrixDepot.matrixdepot(\"cauchy\",  p)"
     ],
     "language": "python",
     "metadata": {},
     "outputs": [
      {
       "metadata": {},
       "output_type": "pyout",
       "prompt_number": 19,
       "text": [
        "3x3 Array{Float64,2}:\n",
        " 0.2        0.333333   1.0     \n",
        " 0.333333   1.0       -1.0     \n",
        " 1.0       -1.0       -0.333333"
       ]
      }
     ],
     "prompt_number": 19
    },
    {
     "cell_type": "code",
     "collapsed": false,
     "input": [
      "a = [9: -1 : 1]"
     ],
     "language": "python",
     "metadata": {},
     "outputs": [
      {
       "metadata": {},
       "output_type": "pyout",
       "prompt_number": 1,
       "text": [
        "9-element Array{Int64,1}:\n",
        " 9\n",
        " 8\n",
        " 7\n",
        " 6\n",
        " 5\n",
        " 4\n",
        " 3\n",
        " 2\n",
        " 1"
       ]
      }
     ],
     "prompt_number": 1
    },
    {
     "cell_type": "code",
     "collapsed": false,
     "input": [
      "ones(9,1)* a'"
     ],
     "language": "python",
     "metadata": {},
     "outputs": [
      {
       "metadata": {},
       "output_type": "pyout",
       "prompt_number": 18,
       "text": [
        "9x9 Array{Float64,2}:\n",
        " 9.0  8.0  7.0  6.0  5.0  4.0  3.0  2.0  1.0\n",
        " 9.0  8.0  7.0  6.0  5.0  4.0  3.0  2.0  1.0\n",
        " 9.0  8.0  7.0  6.0  5.0  4.0  3.0  2.0  1.0\n",
        " 9.0  8.0  7.0  6.0  5.0  4.0  3.0  2.0  1.0\n",
        " 9.0  8.0  7.0  6.0  5.0  4.0  3.0  2.0  1.0\n",
        " 9.0  8.0  7.0  6.0  5.0  4.0  3.0  2.0  1.0\n",
        " 9.0  8.0  7.0  6.0  5.0  4.0  3.0  2.0  1.0\n",
        " 9.0  8.0  7.0  6.0  5.0  4.0  3.0  2.0  1.0\n",
        " 9.0  8.0  7.0  6.0  5.0  4.0  3.0  2.0  1.0"
       ]
      }
     ],
     "prompt_number": 18
    },
    {
     "cell_type": "code",
     "collapsed": false,
     "input": [
      "A = randn(3,4)"
     ],
     "language": "python",
     "metadata": {},
     "outputs": [
      {
       "metadata": {},
       "output_type": "pyout",
       "prompt_number": 126,
       "text": [
        "3x4 Array{Float64,2}:\n",
        " -0.572088  -1.40793    -1.64687    0.545783\n",
        "  1.26884   -1.15327     0.293417  -1.09381 \n",
        " -0.289516   0.0770811   0.221403  -0.626435"
       ]
      }
     ],
     "prompt_number": 126
    },
    {
     "cell_type": "code",
     "collapsed": false,
     "input": [
      "b = [2;3]\n",
      "c = [1,2]\n",
      "A[b,c]\n",
      "A[[1,2],[2,3,4]]"
     ],
     "language": "python",
     "metadata": {},
     "outputs": [
      {
       "metadata": {},
       "output_type": "pyout",
       "prompt_number": 146,
       "text": [
        "2x3 Array{Float64,2}:\n",
        " -1.40793  -1.64687    0.545783\n",
        " -1.15327   0.293417  -1.09381 "
       ]
      }
     ],
     "prompt_number": 146
    },
    {
     "cell_type": "code",
     "collapsed": false,
     "input": [
      "diagm(ones(3,1),-1)"
     ],
     "language": "python",
     "metadata": {},
     "outputs": [
      {
       "ename": "LoadError",
       "evalue": "`diagm` has no method matching diagm(::Array{Float64,2}, ::Int64)\nwhile loading In[20], in expression starting on line 1",
       "output_type": "pyerr",
       "traceback": [
        "`diagm` has no method matching diagm(::Array{Float64,2}, ::Int64)\nwhile loading In[20], in expression starting on line 1",
        ""
       ]
      }
     ],
     "prompt_number": 20
    },
    {
     "cell_type": "code",
     "collapsed": false,
     "input": [
      "a = ones(2,1); b = 4* ones(2,3);\n"
     ],
     "language": "python",
     "metadata": {},
     "outputs": [],
     "prompt_number": 21
    },
    {
     "cell_type": "code",
     "collapsed": false,
     "input": [
      "broadcast(+, a, b)"
     ],
     "language": "python",
     "metadata": {},
     "outputs": [
      {
       "metadata": {},
       "output_type": "pyout",
       "prompt_number": 22,
       "text": [
        "2x3 Array{Float64,2}:\n",
        " 5.0  5.0  5.0\n",
        " 5.0  5.0  5.0"
       ]
      }
     ],
     "prompt_number": 22
    },
    {
     "cell_type": "code",
     "collapsed": false,
     "input": [
      "diagm([1,2,3],-1)"
     ],
     "language": "python",
     "metadata": {},
     "outputs": [
      {
       "metadata": {},
       "output_type": "pyout",
       "prompt_number": 27,
       "text": [
        "4x4 Array{Int64,2}:\n",
        " 0  0  0  0\n",
        " 1  0  0  0\n",
        " 0  2  0  0\n",
        " 0  0  3  0"
       ]
      }
     ],
     "prompt_number": 27
    },
    {
     "cell_type": "code",
     "collapsed": false,
     "input": [
      "n = 8;\n",
      "p = [n:-1:1];\n",
      "F_full = ones(n,1)*p' -diagm(ones(n-1,1)[:,1], -1)"
     ],
     "language": "python",
     "metadata": {},
     "outputs": [
      {
       "metadata": {},
       "output_type": "pyout",
       "prompt_number": 35,
       "text": [
        "8x8 Array{Float64,2}:\n",
        " 8.0  7.0  6.0  5.0  4.0  3.0  2.0  1.0\n",
        " 7.0  7.0  6.0  5.0  4.0  3.0  2.0  1.0\n",
        " 8.0  6.0  6.0  5.0  4.0  3.0  2.0  1.0\n",
        " 8.0  7.0  5.0  5.0  4.0  3.0  2.0  1.0\n",
        " 8.0  7.0  6.0  4.0  4.0  3.0  2.0  1.0\n",
        " 8.0  7.0  6.0  5.0  3.0  3.0  2.0  1.0\n",
        " 8.0  7.0  6.0  5.0  4.0  2.0  2.0  1.0\n",
        " 8.0  7.0  6.0  5.0  4.0  3.0  1.0  1.0"
       ]
      }
     ],
     "prompt_number": 35
    },
    {
     "cell_type": "code",
     "collapsed": false,
     "input": [
      "p[2:n]"
     ],
     "language": "python",
     "metadata": {},
     "outputs": [
      {
       "metadata": {},
       "output_type": "pyout",
       "prompt_number": 45,
       "text": [
        "7-element Array{Int64,1}:\n",
        " 7\n",
        " 6\n",
        " 5\n",
        " 4\n",
        " 3\n",
        " 2\n",
        " 1"
       ]
      }
     ],
     "prompt_number": 45
    },
    {
     "cell_type": "code",
     "collapsed": false,
     "input": [
      "m = 6\n",
      "p = [m:-1:1]\n",
      "F = triu(ones(m,1)*p') \n",
      "G = diagm(p[2:m], -1)\n",
      "F + G"
     ],
     "language": "python",
     "metadata": {},
     "outputs": [
      {
       "metadata": {},
       "output_type": "pyout",
       "prompt_number": 54,
       "text": [
        "6x6 Array{Float64,2}:\n",
        " 6.0  5.0  4.0  3.0  2.0  1.0\n",
        " 5.0  5.0  4.0  3.0  2.0  1.0\n",
        " 0.0  4.0  4.0  3.0  2.0  1.0\n",
        " 0.0  0.0  3.0  3.0  2.0  1.0\n",
        " 0.0  0.0  0.0  2.0  2.0  1.0\n",
        " 0.0  0.0  0.0  0.0  1.0  1.0"
       ]
      }
     ],
     "prompt_number": 54
    },
    {
     "cell_type": "code",
     "collapsed": false,
     "input": [
      "F"
     ],
     "language": "python",
     "metadata": {},
     "outputs": [
      {
       "metadata": {},
       "output_type": "pyout",
       "prompt_number": 57,
       "text": [
        "6x6 Array{Float64,2}:\n",
        " 6.0  5.0  4.0  3.0  2.0  1.0\n",
        " 0.0  5.0  4.0  3.0  2.0  1.0\n",
        " 0.0  0.0  4.0  3.0  2.0  1.0\n",
        " 0.0  0.0  0.0  3.0  2.0  1.0\n",
        " 0.0  0.0  0.0  0.0  2.0  1.0\n",
        " 0.0  0.0  0.0  0.0  0.0  1.0"
       ]
      }
     ],
     "prompt_number": 57
    },
    {
     "cell_type": "code",
     "collapsed": false,
     "input": [
      "F[p,p]'"
     ],
     "language": "python",
     "metadata": {},
     "outputs": [
      {
       "metadata": {},
       "output_type": "pyout",
       "prompt_number": 56,
       "text": [
        "6x6 Array{Float64,2}:\n",
        " 1.0  1.0  1.0  1.0  1.0  1.0\n",
        " 0.0  2.0  2.0  2.0  2.0  2.0\n",
        " 0.0  0.0  3.0  3.0  3.0  3.0\n",
        " 0.0  0.0  0.0  4.0  4.0  4.0\n",
        " 0.0  0.0  0.0  0.0  5.0  5.0\n",
        " 0.0  0.0  0.0  0.0  0.0  6.0"
       ]
      }
     ],
     "prompt_number": 56
    },
    {
     "cell_type": "code",
     "collapsed": false,
     "input": [
      "function frank{T}(::Type{T}, n::Int, k::Int)\n",
      "    # Compute the frank matrix\n",
      "    # type: data type\n",
      "    # n: the dimension of the matrix\n",
      "    # k = 0 or 1: k = 1 reflect about the anti-diagonal\n",
      "    p = T[n:-1:1];\n",
      "    F = triu(ones(T, n,1)*p') + diagm(p[2:n], -1);\n",
      "    k == 0 ? F : \n",
      "    k == 1 ? F[p,p]' : error(\"k = 0 or 1, but get \", k)\n",
      "end\n",
      "frank{T}(::Type{T}, n::Int) = frank(T, n, 0)"
     ],
     "language": "python",
     "metadata": {},
     "outputs": [
      {
       "metadata": {},
       "output_type": "pyout",
       "prompt_number": 25,
       "text": [
        "frank (generic function with 2 methods)"
       ]
      }
     ],
     "prompt_number": 25
    },
    {
     "cell_type": "code",
     "collapsed": false,
     "input": [
      "K = frank(Float32, 5)\n",
      "ishermitian(K)"
     ],
     "language": "python",
     "metadata": {},
     "outputs": [
      {
       "metadata": {},
       "output_type": "pyout",
       "prompt_number": 46,
       "text": [
        "false"
       ]
      }
     ],
     "prompt_number": 46
    },
    {
     "cell_type": "code",
     "collapsed": false,
     "input": [
      "T = Float16;\n",
      "n = 7;\n",
      "p = T[n:-1:1];\n",
      "H = ones(T, n,1)*p'\n",
      "H = triu(H)\n",
      "ishermitian(H)"
     ],
     "language": "python",
     "metadata": {},
     "outputs": [
      {
       "metadata": {},
       "output_type": "pyout",
       "prompt_number": 50,
       "text": [
        "false"
       ]
      }
     ],
     "prompt_number": 50
    },
    {
     "cell_type": "code",
     "collapsed": false,
     "input": [
      "A = zeros(Float64, n, n);\n",
      "\n",
      "[A[i,j] = i<=j ? n + 1 -j : j == i - 1 ? n - j : zero(Float64) \n",
      "    for i = 1:n, j= 1:n]\n"
     ],
     "language": "python",
     "metadata": {},
     "outputs": [
      {
       "ename": "LoadError",
       "evalue": "syntax: colon expected in \"?\" expression\nwhile loading In[55], in expression starting on line 3",
       "output_type": "pyerr",
       "traceback": [
        "syntax: colon expected in \"?\" expression\nwhile loading In[55], in expression starting on line 3",
        ""
       ]
      }
     ],
     "prompt_number": 55
    },
    {
     "cell_type": "code",
     "collapsed": false,
     "input": [
      "for i = 1:n, j = 1:n\n",
      "    A[i,j] = i<=j ? n + 1 -j : j == i - 1 ? n - j : zero(Float64)\n",
      "end\n"
     ],
     "language": "python",
     "metadata": {},
     "outputs": [],
     "prompt_number": 58
    },
    {
     "cell_type": "code",
     "collapsed": false,
     "input": [
      "A"
     ],
     "language": "python",
     "metadata": {},
     "outputs": [
      {
       "metadata": {},
       "output_type": "pyout",
       "prompt_number": 59,
       "text": [
        "7x7 Array{Float64,2}:\n",
        " 7.0  6.0  5.0  4.0  3.0  2.0  1.0\n",
        " 6.0  6.0  5.0  4.0  3.0  2.0  1.0\n",
        " 0.0  5.0  5.0  4.0  3.0  2.0  1.0\n",
        " 0.0  0.0  4.0  4.0  3.0  2.0  1.0\n",
        " 0.0  0.0  0.0  3.0  3.0  2.0  1.0\n",
        " 0.0  0.0  0.0  0.0  2.0  2.0  1.0\n",
        " 0.0  0.0  0.0  0.0  0.0  1.0  1.0"
       ]
      }
     ],
     "prompt_number": 59
    },
    {
     "cell_type": "code",
     "collapsed": false,
     "input": [],
     "language": "python",
     "metadata": {},
     "outputs": []
    }
   ],
   "metadata": {}
  }
 ]
}