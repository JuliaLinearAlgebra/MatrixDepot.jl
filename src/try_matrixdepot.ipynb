{
 "metadata": {
  "language": "Julia",
  "name": "",
  "signature": "sha256:8734236c0299e92aa1e2c482c9decb7fe007f47dc565a5e6c7880c93a82c1c0d"
 },
 "nbformat": 3,
 "nbformat_minor": 0,
 "worksheets": [
  {
   "cells": [
    {
     "cell_type": "code",
     "collapsed": false,
     "input": [
      "using MatrixDepot"
     ],
     "language": "python",
     "metadata": {},
     "outputs": [],
     "prompt_number": 1
    },
    {
     "cell_type": "code",
     "collapsed": false,
     "input": [
      "? matrixdepot"
     ],
     "language": "python",
     "metadata": {},
     "outputs": [
      {
       "output_type": "stream",
       "stream": "stderr",
       "text": [
        "INFO: Loading help data...\n"
       ]
      },
      {
       "output_type": "stream",
       "stream": "stdout",
       "text": [
        "matrixdepot (generic function with 14 methods)\n"
       ]
      }
     ],
     "prompt_number": 2
    },
    {
     "cell_type": "code",
     "collapsed": false,
     "input": [
      "M = matrixdepot()"
     ],
     "language": "python",
     "metadata": {},
     "outputs": [
      {
       "output_type": "stream",
       "stream": "stdout",
       "text": [
        "Matrices in the Collection:\n"
       ]
      },
      {
       "output_type": "stream",
       "stream": "stdout",
       "text": [
        "---------------------------\n",
        "\n",
        "Property: pos-def\n",
        "-------------------\n",
        "hilb matrix, cauchy matrix, circul matrix, invhilb matrix, \n",
        "\n",
        "\n",
        "Property: ill-cond\n",
        "-------------------\n",
        "hilb matrix, cauchy matrix, frank matrix, invhilb matrix, \n",
        "forsythe matrix, triw matrix, \n",
        "\n",
        "Property: eigen\n",
        "-------------------\n",
        "hadamard matrix, circul matrix, dingdong matrix, frank matrix, \n",
        "forsythe matrix, grcar matrix, \n",
        "\n",
        "Property: symmetric\n",
        "-------------------\n",
        "hilb matrix, cauchy matrix, circul matrix, dingdong matrix, \n",
        "invhilb matrix, \n",
        "\n",
        "Property: inverse\n",
        "-------------------\n",
        "hilb matrix, hadamard matrix, cauchy matrix, invhilb matrix, \n",
        "forsythe matrix, magic matrix, triw matrix, \n",
        "\n"
       ]
      }
     ],
     "prompt_number": 3
    },
    {
     "cell_type": "code",
     "collapsed": false,
     "input": [
      "matrixdepot(\"triw\")"
     ],
     "language": "python",
     "metadata": {},
     "outputs": [
      {
       "output_type": "stream",
       "stream": "stdout",
       "text": [
        "Triw Matrix:\n",
        "             \n",
        " Input options:\n",
        "             \n",
        " (type), row_dim, col_dim, alpha, k: row_dim and col_dim \n",
        "             are row and column dimension of the matrix. alpha is a \n",
        "             scalar representing the entries on the superdiagonals. \n",
        "             k is the number superdiagonals.\n",
        "             \n",
        " (type), dim, alpha, k: dim is the dimension of the matrix.\n",
        "             \n",
        " (type), dim \n",
        "             \n",
        " ['inverse', 'ill-cond']\n"
       ]
      }
     ],
     "prompt_number": 3
    },
    {
     "cell_type": "code",
     "collapsed": false,
     "input": [
      "A = matrixdepot(\"triw\", Float32, 7)"
     ],
     "language": "python",
     "metadata": {},
     "outputs": [
      {
       "metadata": {},
       "output_type": "pyout",
       "prompt_number": 10,
       "text": [
        "7x7 Array{Float32,2}:\n",
        " 1.0  -1.0  -1.0  -1.0  -1.0  -1.0  -1.0\n",
        " 0.0   1.0  -1.0  -1.0  -1.0  -1.0  -1.0\n",
        " 0.0   0.0   1.0  -1.0  -1.0  -1.0  -1.0\n",
        " 0.0   0.0   0.0   1.0  -1.0  -1.0  -1.0\n",
        " 0.0   0.0   0.0   0.0   1.0  -1.0  -1.0\n",
        " 0.0   0.0   0.0   0.0   0.0   1.0  -1.0\n",
        " 0.0   0.0   0.0   0.0   0.0   0.0   1.0"
       ]
      }
     ],
     "prompt_number": 10
    },
    {
     "cell_type": "code",
     "collapsed": false,
     "input": [
      "B = A' * A"
     ],
     "language": "python",
     "metadata": {},
     "outputs": [
      {
       "metadata": {},
       "output_type": "pyout",
       "prompt_number": 14,
       "text": [
        "7x7 Array{Float32,2}:\n",
        "  1.0  -1.0  -1.0  -1.0  -1.0  -1.0  -1.0\n",
        " -1.0   2.0   0.0   0.0   0.0   0.0   0.0\n",
        " -1.0   0.0   3.0   1.0   1.0   1.0   1.0\n",
        " -1.0   0.0   1.0   4.0   2.0   2.0   2.0\n",
        " -1.0   0.0   1.0   2.0   5.0   3.0   3.0\n",
        " -1.0   0.0   1.0   2.0   3.0   6.0   4.0\n",
        " -1.0   0.0   1.0   2.0   3.0   4.0   7.0"
       ]
      }
     ],
     "prompt_number": 14
    },
    {
     "cell_type": "code",
     "collapsed": false,
     "input": [
      "diag(B)"
     ],
     "language": "python",
     "metadata": {},
     "outputs": [
      {
       "metadata": {},
       "output_type": "pyout",
       "prompt_number": 15,
       "text": [
        "7-element Array{Float32,1}:\n",
        " 1.0\n",
        " 2.0\n",
        " 3.0\n",
        " 4.0\n",
        " 5.0\n",
        " 6.0\n",
        " 7.0"
       ]
      }
     ],
     "prompt_number": 15
    },
    {
     "cell_type": "code",
     "collapsed": false,
     "input": [
      "[1. : 7]"
     ],
     "language": "python",
     "metadata": {},
     "outputs": [
      {
       "metadata": {},
       "output_type": "pyout",
       "prompt_number": 17,
       "text": [
        "7-element Array{Float64,1}:\n",
        " 1.0\n",
        " 2.0\n",
        " 3.0\n",
        " 4.0\n",
        " 5.0\n",
        " 6.0\n",
        " 7.0"
       ]
      }
     ],
     "prompt_number": 17
    },
    {
     "cell_type": "code",
     "collapsed": false,
     "input": [
      "istriu(A + diagm(ones(6-1), -1))"
     ],
     "language": "python",
     "metadata": {},
     "outputs": [
      {
       "metadata": {},
       "output_type": "pyout",
       "prompt_number": 27,
       "text": [
        "true"
       ]
      }
     ],
     "prompt_number": 27
    },
    {
     "cell_type": "code",
     "collapsed": false,
     "input": [
      "matrixdepot(\"symmetric\")"
     ],
     "language": "python",
     "metadata": {},
     "outputs": [
      {
       "metadata": {},
       "output_type": "pyout",
       "prompt_number": 3,
       "text": [
        "5-element Array{ASCIIString,1}:\n",
        " \"hilb\"    \n",
        " \"cauchy\"  \n",
        " \"circul\"  \n",
        " \"dingdong\"\n",
        " \"invhilb\" "
       ]
      }
     ],
     "prompt_number": 3
    },
    {
     "cell_type": "code",
     "collapsed": false,
     "input": [
      "matrixdepot(\"ill-cond\")"
     ],
     "language": "python",
     "metadata": {},
     "outputs": [
      {
       "metadata": {},
       "output_type": "pyout",
       "prompt_number": 4,
       "text": [
        "5-element Array{ASCIIString,1}:\n",
        " \"hilb\"    \n",
        " \"cauchy\"  \n",
        " \"frank\"   \n",
        " \"invhilb\" \n",
        " \"forsythe\""
       ]
      }
     ],
     "prompt_number": 4
    },
    {
     "cell_type": "code",
     "collapsed": false,
     "input": [
      "matrixdepot(\"symmetric\")"
     ],
     "language": "python",
     "metadata": {},
     "outputs": [
      {
       "metadata": {},
       "output_type": "pyout",
       "prompt_number": 9,
       "text": [
        "5-element Array{ASCIIString,1}:\n",
        " \"hilb\"    \n",
        " \"cauchy\"  \n",
        " \"circul\"  \n",
        " \"dingdong\"\n",
        " \"invhilb\" "
       ]
      }
     ],
     "prompt_number": 9
    },
    {
     "cell_type": "code",
     "collapsed": false,
     "input": [
      "matrixdepot(\"ill-cond\")"
     ],
     "language": "python",
     "metadata": {},
     "outputs": [
      {
       "metadata": {},
       "output_type": "pyout",
       "prompt_number": 10,
       "text": [
        "4-element Array{ASCIIString,1}:\n",
        " \"hilb\"   \n",
        " \"cauchy\" \n",
        " \"frank\"  \n",
        " \"invhilb\""
       ]
      }
     ],
     "prompt_number": 10
    },
    {
     "cell_type": "code",
     "collapsed": false,
     "input": [
      "matrixdepot(\"inverse\")"
     ],
     "language": "python",
     "metadata": {},
     "outputs": [
      {
       "metadata": {},
       "output_type": "pyout",
       "prompt_number": 11,
       "text": [
        "4-element Array{ASCIIString,1}:\n",
        " \"hilb\"    \n",
        " \"hadamard\"\n",
        " \"cauchy\"  \n",
        " \"invhilb\" "
       ]
      }
     ],
     "prompt_number": 11
    },
    {
     "cell_type": "code",
     "collapsed": false,
     "input": [
      "A = eye(4);\n",
      "print(\"Identity matrix\")\n",
      "for mat in matrixdepot(\"inverse\")\n",
      "    print(\" x $mat matrix\")\n",
      "    A *= matrixdepot(mat, 4)\n",
      "end\n",
      "println(\" =\")\n",
      "A"
     ],
     "language": "python",
     "metadata": {},
     "outputs": [
      {
       "output_type": "stream",
       "stream": "stdout",
       "text": [
        "Identity matrix x hilb matrix"
       ]
      },
      {
       "output_type": "stream",
       "stream": "stdout",
       "text": [
        " x hadamard matrix x cauchy matrix x invhilb matrix =\n"
       ]
      },
      {
       "metadata": {},
       "output_type": "pyout",
       "prompt_number": 13,
       "text": [
        "4x4 Array{Float64,2}:\n",
        " -0.00595238   2.20238   0.047619   1.75    \n",
        " -0.00166667   1.31667   0.0666667  0.616667\n",
        " -0.000714286  0.964286  0.052381   0.316667\n",
        " -0.00037415   0.767007  0.0401361  0.192857"
       ]
      }
     ],
     "prompt_number": 13
    },
    {
     "cell_type": "code",
     "collapsed": false,
     "input": [
      "matrixdepot(\"forsythe\")"
     ],
     "language": "python",
     "metadata": {},
     "outputs": [
      {
       "output_type": "stream",
       "stream": "stdout",
       "text": [
        "Forsythe matrix:\n",
        "             \n",
        " Input options:\n",
        "             \n",
        " (type), n, alpha, lambda: n is the dimension of the matrix.\n",
        "             alpha and lambda are scalars.\n",
        "             \n",
        " (type), n: alpha = sqrt(eps(type)) and lambda = 0.\n",
        "             \n",
        " ['inverse', 'ill-cond', 'eigen']\n"
       ]
      }
     ],
     "prompt_number": 19
    },
    {
     "cell_type": "code",
     "collapsed": false,
     "input": [
      "A = matrixdepot(\"triw\",  5)"
     ],
     "language": "python",
     "metadata": {},
     "outputs": [
      {
       "metadata": {},
       "output_type": "pyout",
       "prompt_number": 5,
       "text": [
        "5x5 Array{Float64,2}:\n",
        " 1.0  -1.0  -1.0  -1.0  -1.0\n",
        " 0.0   1.0  -1.0  -1.0  -1.0\n",
        " 0.0   0.0   1.0  -1.0  -1.0\n",
        " 0.0   0.0   0.0   1.0  -1.0\n",
        " 0.0   0.0   0.0   0.0   1.0"
       ]
      }
     ],
     "prompt_number": 5
    },
    {
     "cell_type": "code",
     "collapsed": false,
     "input": [
      "diag(A'*A) == [1.: 5]"
     ],
     "language": "python",
     "metadata": {},
     "outputs": [
      {
       "metadata": {},
       "output_type": "pyout",
       "prompt_number": 4,
       "text": [
        "true"
       ]
      }
     ],
     "prompt_number": 4
    },
    {
     "cell_type": "code",
     "collapsed": false,
     "input": [
      "include(\"../test/runtests.jl\")"
     ],
     "language": "python",
     "metadata": {},
     "outputs": [
      {
       "output_type": "stream",
       "stream": "stdout",
       "text": [
        "'cauchy' passed test...\n"
       ]
      },
      {
       "output_type": "stream",
       "stream": "stdout",
       "text": [
        "'circul' passed test...\n",
        "'hadamard' passed test..."
       ]
      },
      {
       "output_type": "stream",
       "stream": "stdout",
       "text": [
        "\n",
        "'hilb' passed test..."
       ]
      },
      {
       "output_type": "stream",
       "stream": "stdout",
       "text": [
        "\n",
        "'dingdong' passed test...\n",
        "'frank' passed test..."
       ]
      },
      {
       "output_type": "stream",
       "stream": "stdout",
       "text": [
        "\n",
        "'invhilb' passed test...\n",
        "'forsythe' passed test..."
       ]
      },
      {
       "output_type": "stream",
       "stream": "stdout",
       "text": [
        "\n"
       ]
      },
      {
       "ename": "LoadError",
       "evalue": "test failed: sum(diag(M)) == sum(diag(M[:,p]))\nwhile loading /home/weijian/.julia/v0.3/MatrixDepot/test/test_magic.jl, in expression starting on line 11\nwhile loading /home/weijian/.julia/v0.3/MatrixDepot/test/runtests.jl, in expression starting on line 12\nwhile loading In[1], in expression starting on line 1",
       "output_type": "pyerr",
       "traceback": [
        "test failed: sum(diag(M)) == sum(diag(M[:,p]))\nwhile loading /home/weijian/.julia/v0.3/MatrixDepot/test/test_magic.jl, in expression starting on line 11\nwhile loading /home/weijian/.julia/v0.3/MatrixDepot/test/runtests.jl, in expression starting on line 12\nwhile loading In[1], in expression starting on line 1",
        "",
        " in error at error.jl:21",
        " in default_handler at test.jl:19",
        " in do_test at test.jl:39",
        " in include at ./boot.jl:245",
        " in include_from_node1 at ./loading.jl:128",
        " in include at ./boot.jl:245",
        " in include_from_node1 at ./loading.jl:128"
       ]
      }
     ],
     "prompt_number": 1
    },
    {
     "cell_type": "code",
     "collapsed": false,
     "input": [
      "T = Float32\n",
      "a = 3\n",
      "b = 4\n",
      "n = 6\n",
      "A = zeros(T, n, n)\n",
      "for i = 1:n, j = 1:n\n",
      "    A[i,j] = j == i ? b : \n",
      "             j == i + 1 ? 1.0 : \n",
      "             (i == n && j == 1)? a : 0.0\n",
      "end"
     ],
     "language": "python",
     "metadata": {},
     "outputs": [],
     "prompt_number": 10
    },
    {
     "cell_type": "code",
     "collapsed": false,
     "input": [
      "A"
     ],
     "language": "python",
     "metadata": {},
     "outputs": [
      {
       "metadata": {},
       "output_type": "pyout",
       "prompt_number": 10,
       "text": [
        "6x6 Array{Float32,2}:\n",
        " 4.0  1.0  0.0  0.0  0.0  0.0\n",
        " 0.0  4.0  1.0  0.0  0.0  0.0\n",
        " 0.0  0.0  4.0  1.0  0.0  0.0\n",
        " 0.0  0.0  0.0  4.0  1.0  0.0\n",
        " 0.0  0.0  0.0  0.0  4.0  1.0\n",
        " 3.0  0.0  0.0  0.0  0.0  4.0"
       ]
      }
     ],
     "prompt_number": 10
    },
    {
     "cell_type": "code",
     "collapsed": false,
     "input": [
      "matrixdepot(\"forsythe\", 6, 3, 4)"
     ],
     "language": "python",
     "metadata": {},
     "outputs": [
      {
       "metadata": {},
       "output_type": "pyout",
       "prompt_number": 8,
       "text": [
        "6x6 Array{Float64,2}:\n",
        " 4.0  1.0  0.0  0.0  0.0  0.0\n",
        " 0.0  4.0  1.0  0.0  0.0  0.0\n",
        " 0.0  0.0  4.0  1.0  0.0  0.0\n",
        " 0.0  0.0  0.0  4.0  1.0  0.0\n",
        " 0.0  0.0  0.0  0.0  4.0  1.0\n",
        " 3.0  0.0  0.0  0.0  0.0  4.0"
       ]
      }
     ],
     "prompt_number": 8
    },
    {
     "cell_type": "code",
     "collapsed": false,
     "input": [
      "using Compat\n",
      "include(\"higham.jl\")"
     ],
     "language": "python",
     "metadata": {},
     "outputs": [
      {
       "ename": "LoadError",
       "evalue": "syntax: unexpected \"=\"\nwhile loading /home/weijian/.julia/v0.3/MatrixDepot/src/higham.jl, in expression starting on line 209\nwhile loading In[2], in expression starting on line 2",
       "output_type": "pyerr",
       "traceback": [
        "syntax: unexpected \"=\"\nwhile loading /home/weijian/.julia/v0.3/MatrixDepot/src/higham.jl, in expression starting on line 209\nwhile loading In[2], in expression starting on line 2",
        "",
        " in include at ./boot.jl:245",
        " in include_from_node1 at ./loading.jl:128"
       ]
      }
     ],
     "prompt_number": 2
    },
    {
     "cell_type": "code",
     "collapsed": false,
     "input": [],
     "language": "python",
     "metadata": {},
     "outputs": []
    }
   ],
   "metadata": {}
  }
 ]
}